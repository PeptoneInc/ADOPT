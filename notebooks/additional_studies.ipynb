{
 "cells": [
  {
   "cell_type": "code",
   "execution_count": 54,
   "id": "e5f15e74-83b0-4e63-ad75-e0cfb2aa8ecd",
   "metadata": {},
   "outputs": [],
   "source": [
    "import pandas as pd\n",
    "import numpy as np\n",
    "from sklearn.metrics import mean_absolute_error, accuracy_score\n",
    "from scipy import stats\n",
    "from Bio import SeqIO\n",
    "from adopt.utils import fasta_to_df, df_to_fasta\n",
    "import random\n",
    "import plotly.express as px"
   ]
  },
  {
   "cell_type": "markdown",
   "id": "2531569e-889d-4d4e-a2f4-3ea34552970b",
   "metadata": {},
   "source": [
    "# Functions"
   ]
  },
  {
   "cell_type": "code",
   "execution_count": 2,
   "id": "f2ecd074-a55e-4be3-aaf3-003c85cfd675",
   "metadata": {},
   "outputs": [],
   "source": [
    "def no_go_ixs(zscores):\n",
    "    no_go_ixs = [i for i, x in enumerate(zscores) if x == 999.0]\n",
    "    return no_go_ixs\n",
    "\n",
    "def take_go_pos(scores, no_go_pos):\n",
    "    go_pos = [scores[i] for i in range(len(scores)) if i not in no_go_pos]\n",
    "    return go_pos\n",
    "\n",
    "def put_nans(x):\n",
    "    new_scores = [i if i != 999.0 else np.nan for i in x]\n",
    "    return new_scores\n",
    "\n",
    "def to_bin(x):\n",
    "    bin_scores = []\n",
    "    for score in x:\n",
    "        if score < 8:\n",
    "            new_score = 1\n",
    "        elif score >=8:\n",
    "            new_score = 0\n",
    "        else:\n",
    "            new_score = score\n",
    "        bin_scores.append(new_score)\n",
    "    return bin_scores\n",
    "\n",
    "def get_dis_regions(z_score_bin, dis_reg_len):\n",
    "    zones = {\"ones\": [], \"zeros\": [], 'ones_region': []}\n",
    "    reg = 0\n",
    "    for n, i in enumerate(z_score_bin):\n",
    "        pos_reg_diff = n-dis_reg_len+1\n",
    "        pos_reg_sum = n+dis_reg_len\n",
    "        #if n>0:\n",
    "        if pos_reg_diff>=0:\n",
    "            #if z_score_bin[n]+z_score_bin[n-1])==2:\n",
    "            if (sum(z_score_bin[pos_reg_diff:n+1]))==dis_reg_len:\n",
    "                zones['ones'].append(n)\n",
    "                zones['ones_region'].append(reg)        \n",
    "            else:\n",
    "                zones['zeros'].append(n)\n",
    "                reg+=1\n",
    "        else:\n",
    "            #if (z_score_bin[n]+z_score_bin[n+1])==2:\n",
    "            if (sum(z_score_bin[n:pos_reg_sum]))==dis_reg_len:\n",
    "                zones['ones'].append(n)\n",
    "                zones['ones_region'].append(reg)   \n",
    "            else:\n",
    "                zones['zeros'].append(n)\n",
    "    return zones\n",
    "\n",
    "def get_disorder_reg_index(bin_true_score, dis_reg_len):\n",
    "    dis_regions = get_dis_regions(bin_true_score, dis_reg_len)['ones_region']\n",
    "    dis_regions_ixs = get_dis_regions(bin_true_score, dis_reg_len)['ones']\n",
    "\n",
    "    regions = list(set(dis_regions))\n",
    "    dis_reg_ix_list = []\n",
    "\n",
    "    for n, reg in enumerate(regions):\n",
    "        region_ix = [i for i, j in enumerate(dis_regions) if j == reg]\n",
    "        dis_reg_ix = [dis_regions_ixs[n] for n in region_ix]\n",
    "        dis_reg_ix_list.append(dis_reg_ix)\n",
    "    return dis_reg_ix_list\n",
    "\n",
    "def compute_accuracy_per_region(true_score, pred_score, bin_true_score, bin_pred_score, dis_ixs):\n",
    "    #accuracy_prot = []\n",
    "    #corr_prot = []\n",
    "    true_z_score_dis_l = []\n",
    "    pred_z_score_dis_l = []\n",
    "    dis_reg_true_clss = []\n",
    "    dis_reg_pred_clss = []\n",
    "    for reg_ixs in dis_ixs:\n",
    "        true_z_score_class_dis_reg = [bin_true_score[i] for i in reg_ixs]\n",
    "        pred_z_score_class_dis_reg = [bin_pred_score[i] for i in reg_ixs]\n",
    "        true_z_score_dis_reg = [true_score[i] for i in reg_ixs]\n",
    "        pred_z_score_dis_reg = [pred_score[i] for i in reg_ixs]\n",
    "        #acc = accuracy_score(true_z_score_class_dis_reg, pred_z_score_class_dis_reg)\n",
    "        #prs = stats.pearsonr(true_z_score_dis_reg, pred_z_score_dis_reg)\n",
    "        #accuracy_prot.append(acc)\n",
    "        #corr_prot.append(prs)\n",
    "        dis_reg_true_clss.extend(true_z_score_class_dis_reg)\n",
    "        dis_reg_pred_clss.extend(pred_z_score_class_dis_reg)\n",
    "        true_z_score_dis_l.extend(true_z_score_dis_reg)\n",
    "        pred_z_score_dis_l.extend(pred_z_score_dis_reg)\n",
    "    return true_z_score_dis_l, pred_z_score_dis_l, dis_reg_true_clss, dis_reg_pred_clss\n",
    "\n",
    "def extract_disordered_regions_bin(bin_true_score, bin_pred_score, dis_ixs, perc_dis):\n",
    "    dis_reg_true_clss = []\n",
    "    dis_reg_pred_clss = []\n",
    "    for reg_ixs in dis_ixs:\n",
    "        true_z_score_class_dis_reg = [bin_true_score[i] for i in reg_ixs]\n",
    "        pred_z_score_class_dis_reg = [bin_pred_score[i] for i in reg_ixs]\n",
    "        n_true_dis_res = sum(true_z_score_class_dis_reg)\n",
    "        n_pred_dis_res = sum(pred_z_score_class_dis_reg)\n",
    "        fraction_of_true_disorder = (np.rint(len(true_z_score_class_dis_reg)*perc_dis)).astype(int)\n",
    "        fraction_of_pred_disorder = (np.rint(len(pred_z_score_class_dis_reg)*perc_dis)).astype(int)\n",
    "        \n",
    "        if n_true_dis_res >= fraction_of_true_disorder:\n",
    "            dis_reg_true_clss.append(1)\n",
    "        else: \n",
    "            dis_reg_true_clss.append(0)\n",
    "            \n",
    "        if n_pred_dis_res >= fraction_of_pred_disorder:\n",
    "            dis_reg_pred_clss.append(1)\n",
    "        else: \n",
    "            dis_reg_pred_clss.append(0)\n",
    "        \n",
    "    return dis_reg_true_clss, dis_reg_pred_clss\n",
    "\n",
    "def extract_disordered_regions(bin_true_score, bin_pred_score, dis_ixs):\n",
    "    dis_reg_true_frac = []\n",
    "    dis_reg_pred_frac = []\n",
    "    for reg_ixs in dis_ixs:\n",
    "        true_z_score_class_dis_reg = [bin_true_score[i] for i in reg_ixs]\n",
    "        pred_z_score_class_dis_reg = [bin_pred_score[i] for i in reg_ixs]\n",
    "        n_true_dis_res = sum(true_z_score_class_dis_reg)\n",
    "        n_pred_dis_res = sum(pred_z_score_class_dis_reg)\n",
    "        fraction_of_true_disorder = float(n_true_dis_res/len(true_z_score_class_dis_reg))\n",
    "        fraction_of_pred_disorder = float(n_pred_dis_res/len(pred_z_score_class_dis_reg))\n",
    "        #print(fraction_of_pred_disorder)\n",
    "        \n",
    "        dis_reg_true_frac.append(fraction_of_true_disorder)\n",
    "        dis_reg_pred_frac.append(fraction_of_pred_disorder)       \n",
    "        \n",
    "    return dis_reg_true_frac, dis_reg_pred_frac\n",
    "\n",
    "def trim_seq(x, trim_fac):\n",
    "    if isinstance(x, list):\n",
    "        x_trim = x[:-trim_fac]\n",
    "    else:\n",
    "        x_trim = list(x)\n",
    "        x_trim = x_trim[:-trim_fac]\n",
    "        x_trim = ''.join(x_trim)\n",
    "    return x_trim\n",
    "\n",
    "def mutate(x, vocab):\n",
    "    # choose random index to change\n",
    "    index = random.randint(0, len(x) - 1)\n",
    "    # make sure you are not using the previous char by removing it from \n",
    "    # the mutations to choose from\n",
    "    mutations = [c for c in vocab if c != x[index]]\n",
    "    # swap out the char at index with a random mutation\n",
    "    return x[:index] + random.choice(mutations) + x[index+1:]\n",
    "\n",
    "def get_rand_seq(x, n_mut, vocab):\n",
    "    for i in range(n_mut):\n",
    "        x = mutate(x, vocab)\n",
    "    return x"
   ]
  },
  {
   "cell_type": "code",
   "execution_count": 7,
   "id": "d9112efa-2b3d-4f8c-8091-595f444682b7",
   "metadata": {},
   "outputs": [],
   "source": [
    "def write_trimmed_seqs(fasta_dir, orig_fasta_file, out_fasta_prefix, trim_fac):\n",
    "    df_117_orig = fasta_to_df(f'{fasta_dir}/{orig_fasta_file}')\n",
    "    df_117_trim = df_117_orig.copy()\n",
    "    df_117_trim['sequence'] = df_117_trim.sequence.apply(trim_seq, trim_fac=trim_fac)\n",
    "    df_to_fasta(df_117_trim, f\"{fasta_dir}/{out_fasta_prefix}_{trim_fac}.fasta\")\n",
    "    \n",
    "def write_rand_seqs(fasta_dir, orig_fasta_file, out_fasta_prefix, n_mut, aa):\n",
    "    df_117_orig = fasta_to_df(f'{fasta_dir}/{orig_fasta_file}')\n",
    "    df_117_rand = df_117_orig.copy()\n",
    "    df_117_rand['sequence'] = df_117_rand.sequence.apply(get_rand_seq, n_mut=n_mut, vocab=aa)\n",
    "    df_to_fasta(df_117_rand, f\"{fasta_dir}/{out_fasta_prefix}_{n_mut}.fasta\")"
   ]
  },
  {
   "cell_type": "code",
   "execution_count": 18,
   "id": "2526786f-85b1-4040-8260-a5b6694569d5",
   "metadata": {},
   "outputs": [],
   "source": [
    "def import_data(gt_path, pred_prefix, mode, trim_fac=None, n_mut=None):\n",
    "    chezod_117_true_path = gt_path\n",
    "    if mode=='test':\n",
    "        chezod_117_pred_path = f'{pred_prefix}.json'\n",
    "        df_117_pred = pd.read_json(chezod_117_pred_path, orient='records')\n",
    "        df_117_true = pd.read_json(chezod_117_true_path, orient='records')\n",
    "    elif mode=='trim':\n",
    "        chezod_117_pred_path = f'{pred_prefix}_trim_{trim_fac}.json'\n",
    "        df_117_pred = pd.read_json(chezod_117_pred_path, orient='records')\n",
    "        df_117_true = pd.read_json(chezod_117_true_path, orient='records')\n",
    "        df_117_true['sequence'] = df_117_true.sequence.apply(trim_seq, trim_fac=trim_fac)\n",
    "        df_117_true['zscore'] = df_117_true.zscore.apply(trim_seq, trim_fac=trim_fac)\n",
    "    elif mode=='rand':\n",
    "        chezod_117_pred_path = f'{pred_prefix}_rand_{n_mut}.json'\n",
    "        df_117_pred = pd.read_json(chezod_117_pred_path, orient='records')\n",
    "        df_117_true = pd.read_json(chezod_117_true_path, orient='records')\n",
    "        df_117_true['sequence'] = df_117_pred.sequence\n",
    "    else:\n",
    "        print(\"Wrong mode\")\n",
    "        \n",
    "    return df_117_true, df_117_pred\n",
    "\n",
    "def run_analysis(df_117_true, df_117_pred, dis_reg_len, perc_dis):\n",
    "    df_117 = pd.concat([df_117_true, df_117_pred[[\"z_scores\"]]], axis=1)\n",
    "    df_117.rename(columns={\"zscore\": \"zscore_true\", \"z_scores\": \"zscore_pred\"}, inplace=True)\n",
    "    df_117[\"no_go_ixs\"] = df_117.zscore_true.apply(no_go_ixs)\n",
    "    df_117[\"zscore_true_nan\"] = df_117.zscore_true.apply(put_nans)\n",
    "    df_117[\"go_zscore_true\"] = df_117.apply(lambda x: take_go_pos(x['zscore_true'], x['no_go_ixs']), axis=1)\n",
    "    df_117[\"go_zscore_pred\"] = df_117.apply(lambda x: take_go_pos(x['zscore_pred'], x['no_go_ixs']), axis=1)\n",
    "    df_117[\"zscore_true_bin\"] = df_117.zscore_true_nan.apply(to_bin)\n",
    "    df_117[\"zscore_pred_bin\"] = df_117.zscore_pred.apply(to_bin)\n",
    "    zscores_true = np.concatenate(df_117.zscore_true_nan.values)\n",
    "    zscores_pred = np.concatenate(df_117.zscore_pred.values)\n",
    "    go_zscores_true = np.concatenate(df_117.go_zscore_true.values)\n",
    "    go_zscores_pred = np.concatenate(df_117.go_zscore_pred.values)\n",
    "    \n",
    "    mae = mean_absolute_error(go_zscores_true, go_zscores_pred)\n",
    "    srho = stats.spearmanr(zscores_true, zscores_pred, nan_policy='omit')\n",
    "    pcoeff = stats.pearsonr(go_zscores_true, go_zscores_pred)\n",
    "    \n",
    "    bin_true_scores = df_117.zscore_true_bin.values\n",
    "    bin_pred_scores = df_117.zscore_pred_bin.values\n",
    "    true_scores = df_117.zscore_true.values\n",
    "    pred_scores = df_117.zscore_pred.values\n",
    "    \n",
    "    \n",
    "    dis_reg_true = []\n",
    "    dis_reg_pred = []\n",
    "    dis_reg_true_prob = []\n",
    "    dis_reg_pred_prob = []\n",
    "\n",
    "\n",
    "    for i in range(len(true_scores)):\n",
    "        bin_true_score = bin_true_scores[i] \n",
    "        bin_pred_score = bin_pred_scores[i] \n",
    "        dis_ixs = get_disorder_reg_index(bin_true_score, dis_reg_len=dis_reg_len)\n",
    "        dis_reg_true_clss, dis_reg_pred_clss = extract_disordered_regions_bin(bin_true_score, \n",
    "                                                                              bin_pred_score, \n",
    "                                                                              dis_ixs,\n",
    "                                                                              perc_dis=perc_dis)\n",
    "        dis_reg_true_frac, dis_reg_pred_frac = extract_disordered_regions(bin_true_score, \n",
    "                                                                          bin_pred_score, \n",
    "                                                                          dis_ixs)\n",
    "\n",
    "        dis_reg_true.extend(dis_reg_true_clss)\n",
    "        dis_reg_pred.extend(dis_reg_pred_clss)\n",
    "        dis_reg_true_prob.extend(dis_reg_true_frac)\n",
    "        dis_reg_pred_prob.extend(dis_reg_pred_frac)\n",
    "    \n",
    "    acc_in_dis_reg = accuracy_score(dis_reg_true, dis_reg_pred)\n",
    "    \n",
    "    return mae, srho, pcoeff, acc_in_dis_reg"
   ]
  },
  {
   "cell_type": "markdown",
   "id": "42f1fd2f-451a-43cf-8ebe-21be27af1d24",
   "metadata": {},
   "source": [
    "# Parameters"
   ]
  },
  {
   "cell_type": "code",
   "execution_count": 19,
   "id": "aaa9053a-8428-4d12-8260-d65b8f24cabc",
   "metadata": {},
   "outputs": [],
   "source": [
    "fasta_dir = \"../datasets\"\n",
    "orig_fasta_file = \"chezod_117_all.fasta\"\n",
    "max_trim_fac = 10\n",
    "max_n_mut = 10\n",
    "dis_reg_len = 3\n",
    "perc_dis = 0.7\n",
    "aa = 'ARNDCQEGHILKMFPSTWYV'"
   ]
  },
  {
   "cell_type": "markdown",
   "id": "ffa02dd8-6fa3-4501-b5d4-ffdec9b31add",
   "metadata": {},
   "source": [
    "# Trim sequences"
   ]
  },
  {
   "cell_type": "code",
   "execution_count": 10,
   "id": "748f3bc7-9967-4462-b3b4-8679375facfd",
   "metadata": {},
   "outputs": [],
   "source": [
    "for i in range(1, max_trim_fac):\n",
    "    write_trimmed_seqs(fasta_dir, orig_fasta_file, \"chezod_117_all_trim\", i)"
   ]
  },
  {
   "cell_type": "markdown",
   "id": "265f30a0-6206-4ff3-ae13-05919070335d",
   "metadata": {},
   "source": [
    "# Randomize sequences"
   ]
  },
  {
   "cell_type": "code",
   "execution_count": 12,
   "id": "c8c1b09f-dbbd-4b6c-b1e6-0d5e56d67b31",
   "metadata": {},
   "outputs": [],
   "source": [
    "for i in range(1, max_n_mut):\n",
    "    write_rand_seqs(fasta_dir, orig_fasta_file, \"chezod_117_all_rand\", i, aa)"
   ]
  },
  {
   "cell_type": "markdown",
   "id": "82e2a8ac-9cee-44ec-8e25-0db2e419d273",
   "metadata": {},
   "source": [
    "# Analysis"
   ]
  },
  {
   "cell_type": "markdown",
   "id": "f78cd400-160d-43e5-9177-39d2352b5b83",
   "metadata": {},
   "source": [
    "### Test"
   ]
  },
  {
   "cell_type": "code",
   "execution_count": 22,
   "id": "2294ea58-ac74-479a-8949-4e2e52a8fdba",
   "metadata": {},
   "outputs": [],
   "source": [
    "df_117_true, df_117_pred = import_data('../datasets/117_dataset_raw.json', \n",
    "                                        '../results/chezod_117_predicted_z_scores', \n",
    "                                        'test')\n",
    "mae, srho, pcoeff, acc_in_dis_reg = run_analysis(df_117_true, df_117_pred, dis_reg_len, perc_dis)"
   ]
  },
  {
   "cell_type": "code",
   "execution_count": 30,
   "id": "91c8a68b-68c8-4dd2-9b81-d11689655192",
   "metadata": {},
   "outputs": [
    {
     "name": "stdout",
     "output_type": "stream",
     "text": [
      "MAE 3.3715380375075217\n",
      "Spearman corr SpearmanrResult(correlation=0.6896238159488697, pvalue=0.0)\n",
      "Pearson corr (0.7223447684118596, 0.0)\n",
      "Disordered regions accuracy 0.6555555555555556\n"
     ]
    }
   ],
   "source": [
    "print('MAE', mae)\n",
    "print('Spearman corr', srho)\n",
    "print('Pearson corr', pcoeff)\n",
    "print('Disordered regions accuracy', acc_in_dis_reg)"
   ]
  },
  {
   "cell_type": "markdown",
   "id": "fc2c6b6a-1a0e-4aa4-ada3-247be9e1f225",
   "metadata": {},
   "source": [
    "### Trim"
   ]
  },
  {
   "cell_type": "code",
   "execution_count": 50,
   "id": "86fbe5fa-1510-4023-bde2-17c22090fa09",
   "metadata": {},
   "outputs": [],
   "source": [
    "mae_trim_list = []\n",
    "srho_trim_list = []\n",
    "pcoeff_trim_list = []\n",
    "acc_dis_trim_list = []\n",
    "trim_facs = np.arange(1, max_trim_fac)\n",
    "\n",
    "for trim_fac in range(1, max_trim_fac):\n",
    "    df_117_true, df_117_pred = import_data('../datasets/117_dataset_raw.json', \n",
    "                                           '../results/chezod_117_predicted_z_scores', \n",
    "                                           'trim',\n",
    "                                           trim_fac\n",
    "                                          )\n",
    "    mae, srho, pcoeff, acc_in_dis_reg = run_analysis(df_117_true, df_117_pred, dis_reg_len, perc_dis)\n",
    "    mae_trim_list.append(mae)\n",
    "    srho_trim_list.append(srho)\n",
    "    pcoeff_trim_list.append(pcoeff)\n",
    "    acc_dis_trim_list.append(acc_in_dis_reg)\n",
    "    \n",
    "srho_trim_list = [c[0] for c in srho_trim_list]\n",
    "pcoeff_trim_list = [c[0] for c in pcoeff_trim_list]"
   ]
  },
  {
   "cell_type": "code",
   "execution_count": 69,
   "id": "0908d328-5fbb-4222-9edc-82a7a65e6bc6",
   "metadata": {},
   "outputs": [],
   "source": [
    "df_trim_mae = pd.DataFrame({'Score': mae_trim_list, \n",
    "                            '# Trimmed residues': trim_facs,\n",
    "                            'Strategy': 'MAE'})\n",
    "df_trim_srho= pd.DataFrame({'Score': srho_trim_list, \n",
    "                            '# Trimmed residues': trim_facs,\n",
    "                            'Strategy': 'Spearman corr'})\n",
    "df_trim_pcoeff= pd.DataFrame({'Score': pcoeff_trim_list, \n",
    "                            '# Trimmed residues': trim_facs,\n",
    "                            'Strategy': 'Pearson corr'})\n",
    "df_trim_dreg= pd.DataFrame({'Score': acc_dis_trim_list, \n",
    "                            '# Trimmed residues': trim_facs,\n",
    "                            'Strategy': 'Disordered regions accuracy'})\n",
    "df_trim_show = pd.concat([df_trim_srho, df_trim_dreg])"
   ]
  },
  {
   "cell_type": "markdown",
   "id": "a5b59dd2-f716-42aa-83ed-2f0e23547c27",
   "metadata": {},
   "source": [
    "### Random"
   ]
  },
  {
   "cell_type": "code",
   "execution_count": 52,
   "id": "989f901e-c425-4933-aaf7-18aba643e327",
   "metadata": {},
   "outputs": [],
   "source": [
    "mae_rand_list = []\n",
    "srho_rand_list = []\n",
    "pcoeff_rand_list = []\n",
    "acc_dis_rand_list = []\n",
    "n_muts = np.arange(1, max_n_mut)\n",
    "\n",
    "for n_mut in range(1, max_n_mut):\n",
    "    df_117_true, df_117_pred = import_data('../datasets/117_dataset_raw.json', \n",
    "                                           '../results/chezod_117_predicted_z_scores', \n",
    "                                           'rand',\n",
    "                                           None,\n",
    "                                           n_mut\n",
    "                                          )\n",
    "    mae, srho, pcoeff, acc_in_dis_reg = run_analysis(df_117_true, df_117_pred, dis_reg_len, perc_dis)\n",
    "    mae_rand_list.append(mae)\n",
    "    srho_rand_list.append(srho)\n",
    "    pcoeff_rand_list.append(pcoeff)\n",
    "    acc_dis_rand_list.append(acc_in_dis_reg)\n",
    "    \n",
    "srho_rand_list = [c[0] for c in srho_rand_list]\n",
    "pcoeff_rand_list = [c[0] for c in pcoeff_rand_list]"
   ]
  },
  {
   "cell_type": "code",
   "execution_count": 70,
   "id": "c8cfade4-74c2-41e0-8afa-579fd408dfe8",
   "metadata": {},
   "outputs": [],
   "source": [
    "df_rand_mae = pd.DataFrame({'Score': mae_rand_list, \n",
    "                            '# Mutated residues': n_muts,\n",
    "                            'Strategy': 'MAE'})\n",
    "df_rand_srho= pd.DataFrame({'Score': srho_rand_list, \n",
    "                            '# Mutated residues': n_muts,\n",
    "                            'Strategy': 'Spearman corr'})\n",
    "df_rand_pcoeff= pd.DataFrame({'Score': pcoeff_rand_list, \n",
    "                            '# Mutated residues': n_muts,\n",
    "                            'Strategy': 'Pearson corr'})\n",
    "df_rand_dreg= pd.DataFrame({'Score': acc_dis_rand_list, \n",
    "                            '# Mutated residues': n_muts,\n",
    "                            'Strategy': 'Disordered regions accuracy'})\n",
    "df_rand_show = pd.concat([df_rand_srho, df_rand_dreg])"
   ]
  },
  {
   "cell_type": "markdown",
   "id": "a2ed6296-4178-4c22-9dcd-ae61c153a1a9",
   "metadata": {},
   "source": [
    "# Plots"
   ]
  },
  {
   "cell_type": "code",
   "execution_count": 71,
   "id": "629998bc-e194-4f9f-b256-a6ba2d030862",
   "metadata": {},
   "outputs": [
    {
     "data": {
      "application/vnd.plotly.v1+json": {
       "config": {
        "plotlyServerURL": "https://plot.ly"
       },
       "data": [
        {
         "hovertemplate": "Strategy=Spearman corr<br># Trimmed residues=%{x}<br>Score=%{y}<extra></extra>",
         "legendgroup": "Spearman corr",
         "line": {
          "color": "#636efa",
          "dash": "solid"
         },
         "marker": {
          "symbol": "circle"
         },
         "mode": "lines",
         "name": "Spearman corr",
         "orientation": "v",
         "showlegend": true,
         "type": "scatter",
         "x": [
          1,
          2,
          3,
          4,
          5,
          6,
          7,
          8,
          9
         ],
         "xaxis": "x",
         "y": [
          0.6908788114505338,
          0.6906975626275907,
          0.6926827555937489,
          0.6917241013913513,
          0.6929942568967166,
          0.6926582389497157,
          0.6938338685826414,
          0.6961348852124011,
          0.6953798968370393
         ],
         "yaxis": "y"
        },
        {
         "hovertemplate": "Strategy=Disordered regions accuracy<br># Trimmed residues=%{x}<br>Score=%{y}<extra></extra>",
         "legendgroup": "Disordered regions accuracy",
         "line": {
          "color": "#EF553B",
          "dash": "solid"
         },
         "marker": {
          "symbol": "circle"
         },
         "mode": "lines",
         "name": "Disordered regions accuracy",
         "orientation": "v",
         "showlegend": true,
         "type": "scatter",
         "x": [
          1,
          2,
          3,
          4,
          5,
          6,
          7,
          8,
          9
         ],
         "xaxis": "x",
         "y": [
          0.6583333333333333,
          0.6498599439775911,
          0.652542372881356,
          0.6504297994269341,
          0.6445086705202312,
          0.6530612244897959,
          0.6501457725947521,
          0.6510263929618768,
          0.6538461538461539
         ],
         "yaxis": "y"
        }
       ],
       "layout": {
        "autosize": true,
        "legend": {
         "title": {
          "text": "Strategy"
         },
         "tracegroupgap": 0
        },
        "margin": {
         "t": 60
        },
        "template": {
         "data": {
          "bar": [
           {
            "error_x": {
             "color": "#2a3f5f"
            },
            "error_y": {
             "color": "#2a3f5f"
            },
            "marker": {
             "line": {
              "color": "#E5ECF6",
              "width": 0.5
             },
             "pattern": {
              "fillmode": "overlay",
              "size": 10,
              "solidity": 0.2
             }
            },
            "type": "bar"
           }
          ],
          "barpolar": [
           {
            "marker": {
             "line": {
              "color": "#E5ECF6",
              "width": 0.5
             },
             "pattern": {
              "fillmode": "overlay",
              "size": 10,
              "solidity": 0.2
             }
            },
            "type": "barpolar"
           }
          ],
          "carpet": [
           {
            "aaxis": {
             "endlinecolor": "#2a3f5f",
             "gridcolor": "white",
             "linecolor": "white",
             "minorgridcolor": "white",
             "startlinecolor": "#2a3f5f"
            },
            "baxis": {
             "endlinecolor": "#2a3f5f",
             "gridcolor": "white",
             "linecolor": "white",
             "minorgridcolor": "white",
             "startlinecolor": "#2a3f5f"
            },
            "type": "carpet"
           }
          ],
          "choropleth": [
           {
            "colorbar": {
             "outlinewidth": 0,
             "ticks": ""
            },
            "type": "choropleth"
           }
          ],
          "contour": [
           {
            "colorbar": {
             "outlinewidth": 0,
             "ticks": ""
            },
            "colorscale": [
             [
              0,
              "#0d0887"
             ],
             [
              0.1111111111111111,
              "#46039f"
             ],
             [
              0.2222222222222222,
              "#7201a8"
             ],
             [
              0.3333333333333333,
              "#9c179e"
             ],
             [
              0.4444444444444444,
              "#bd3786"
             ],
             [
              0.5555555555555556,
              "#d8576b"
             ],
             [
              0.6666666666666666,
              "#ed7953"
             ],
             [
              0.7777777777777778,
              "#fb9f3a"
             ],
             [
              0.8888888888888888,
              "#fdca26"
             ],
             [
              1,
              "#f0f921"
             ]
            ],
            "type": "contour"
           }
          ],
          "contourcarpet": [
           {
            "colorbar": {
             "outlinewidth": 0,
             "ticks": ""
            },
            "type": "contourcarpet"
           }
          ],
          "heatmap": [
           {
            "colorbar": {
             "outlinewidth": 0,
             "ticks": ""
            },
            "colorscale": [
             [
              0,
              "#0d0887"
             ],
             [
              0.1111111111111111,
              "#46039f"
             ],
             [
              0.2222222222222222,
              "#7201a8"
             ],
             [
              0.3333333333333333,
              "#9c179e"
             ],
             [
              0.4444444444444444,
              "#bd3786"
             ],
             [
              0.5555555555555556,
              "#d8576b"
             ],
             [
              0.6666666666666666,
              "#ed7953"
             ],
             [
              0.7777777777777778,
              "#fb9f3a"
             ],
             [
              0.8888888888888888,
              "#fdca26"
             ],
             [
              1,
              "#f0f921"
             ]
            ],
            "type": "heatmap"
           }
          ],
          "heatmapgl": [
           {
            "colorbar": {
             "outlinewidth": 0,
             "ticks": ""
            },
            "colorscale": [
             [
              0,
              "#0d0887"
             ],
             [
              0.1111111111111111,
              "#46039f"
             ],
             [
              0.2222222222222222,
              "#7201a8"
             ],
             [
              0.3333333333333333,
              "#9c179e"
             ],
             [
              0.4444444444444444,
              "#bd3786"
             ],
             [
              0.5555555555555556,
              "#d8576b"
             ],
             [
              0.6666666666666666,
              "#ed7953"
             ],
             [
              0.7777777777777778,
              "#fb9f3a"
             ],
             [
              0.8888888888888888,
              "#fdca26"
             ],
             [
              1,
              "#f0f921"
             ]
            ],
            "type": "heatmapgl"
           }
          ],
          "histogram": [
           {
            "marker": {
             "pattern": {
              "fillmode": "overlay",
              "size": 10,
              "solidity": 0.2
             }
            },
            "type": "histogram"
           }
          ],
          "histogram2d": [
           {
            "colorbar": {
             "outlinewidth": 0,
             "ticks": ""
            },
            "colorscale": [
             [
              0,
              "#0d0887"
             ],
             [
              0.1111111111111111,
              "#46039f"
             ],
             [
              0.2222222222222222,
              "#7201a8"
             ],
             [
              0.3333333333333333,
              "#9c179e"
             ],
             [
              0.4444444444444444,
              "#bd3786"
             ],
             [
              0.5555555555555556,
              "#d8576b"
             ],
             [
              0.6666666666666666,
              "#ed7953"
             ],
             [
              0.7777777777777778,
              "#fb9f3a"
             ],
             [
              0.8888888888888888,
              "#fdca26"
             ],
             [
              1,
              "#f0f921"
             ]
            ],
            "type": "histogram2d"
           }
          ],
          "histogram2dcontour": [
           {
            "colorbar": {
             "outlinewidth": 0,
             "ticks": ""
            },
            "colorscale": [
             [
              0,
              "#0d0887"
             ],
             [
              0.1111111111111111,
              "#46039f"
             ],
             [
              0.2222222222222222,
              "#7201a8"
             ],
             [
              0.3333333333333333,
              "#9c179e"
             ],
             [
              0.4444444444444444,
              "#bd3786"
             ],
             [
              0.5555555555555556,
              "#d8576b"
             ],
             [
              0.6666666666666666,
              "#ed7953"
             ],
             [
              0.7777777777777778,
              "#fb9f3a"
             ],
             [
              0.8888888888888888,
              "#fdca26"
             ],
             [
              1,
              "#f0f921"
             ]
            ],
            "type": "histogram2dcontour"
           }
          ],
          "mesh3d": [
           {
            "colorbar": {
             "outlinewidth": 0,
             "ticks": ""
            },
            "type": "mesh3d"
           }
          ],
          "parcoords": [
           {
            "line": {
             "colorbar": {
              "outlinewidth": 0,
              "ticks": ""
             }
            },
            "type": "parcoords"
           }
          ],
          "pie": [
           {
            "automargin": true,
            "type": "pie"
           }
          ],
          "scatter": [
           {
            "fillpattern": {
             "fillmode": "overlay",
             "size": 10,
             "solidity": 0.2
            },
            "type": "scatter"
           }
          ],
          "scatter3d": [
           {
            "line": {
             "colorbar": {
              "outlinewidth": 0,
              "ticks": ""
             }
            },
            "marker": {
             "colorbar": {
              "outlinewidth": 0,
              "ticks": ""
             }
            },
            "type": "scatter3d"
           }
          ],
          "scattercarpet": [
           {
            "marker": {
             "colorbar": {
              "outlinewidth": 0,
              "ticks": ""
             }
            },
            "type": "scattercarpet"
           }
          ],
          "scattergeo": [
           {
            "marker": {
             "colorbar": {
              "outlinewidth": 0,
              "ticks": ""
             }
            },
            "type": "scattergeo"
           }
          ],
          "scattergl": [
           {
            "marker": {
             "colorbar": {
              "outlinewidth": 0,
              "ticks": ""
             }
            },
            "type": "scattergl"
           }
          ],
          "scattermapbox": [
           {
            "marker": {
             "colorbar": {
              "outlinewidth": 0,
              "ticks": ""
             }
            },
            "type": "scattermapbox"
           }
          ],
          "scatterpolar": [
           {
            "marker": {
             "colorbar": {
              "outlinewidth": 0,
              "ticks": ""
             }
            },
            "type": "scatterpolar"
           }
          ],
          "scatterpolargl": [
           {
            "marker": {
             "colorbar": {
              "outlinewidth": 0,
              "ticks": ""
             }
            },
            "type": "scatterpolargl"
           }
          ],
          "scatterternary": [
           {
            "marker": {
             "colorbar": {
              "outlinewidth": 0,
              "ticks": ""
             }
            },
            "type": "scatterternary"
           }
          ],
          "surface": [
           {
            "colorbar": {
             "outlinewidth": 0,
             "ticks": ""
            },
            "colorscale": [
             [
              0,
              "#0d0887"
             ],
             [
              0.1111111111111111,
              "#46039f"
             ],
             [
              0.2222222222222222,
              "#7201a8"
             ],
             [
              0.3333333333333333,
              "#9c179e"
             ],
             [
              0.4444444444444444,
              "#bd3786"
             ],
             [
              0.5555555555555556,
              "#d8576b"
             ],
             [
              0.6666666666666666,
              "#ed7953"
             ],
             [
              0.7777777777777778,
              "#fb9f3a"
             ],
             [
              0.8888888888888888,
              "#fdca26"
             ],
             [
              1,
              "#f0f921"
             ]
            ],
            "type": "surface"
           }
          ],
          "table": [
           {
            "cells": {
             "fill": {
              "color": "#EBF0F8"
             },
             "line": {
              "color": "white"
             }
            },
            "header": {
             "fill": {
              "color": "#C8D4E3"
             },
             "line": {
              "color": "white"
             }
            },
            "type": "table"
           }
          ]
         },
         "layout": {
          "annotationdefaults": {
           "arrowcolor": "#2a3f5f",
           "arrowhead": 0,
           "arrowwidth": 1
          },
          "autotypenumbers": "strict",
          "coloraxis": {
           "colorbar": {
            "outlinewidth": 0,
            "ticks": ""
           }
          },
          "colorscale": {
           "diverging": [
            [
             0,
             "#8e0152"
            ],
            [
             0.1,
             "#c51b7d"
            ],
            [
             0.2,
             "#de77ae"
            ],
            [
             0.3,
             "#f1b6da"
            ],
            [
             0.4,
             "#fde0ef"
            ],
            [
             0.5,
             "#f7f7f7"
            ],
            [
             0.6,
             "#e6f5d0"
            ],
            [
             0.7,
             "#b8e186"
            ],
            [
             0.8,
             "#7fbc41"
            ],
            [
             0.9,
             "#4d9221"
            ],
            [
             1,
             "#276419"
            ]
           ],
           "sequential": [
            [
             0,
             "#0d0887"
            ],
            [
             0.1111111111111111,
             "#46039f"
            ],
            [
             0.2222222222222222,
             "#7201a8"
            ],
            [
             0.3333333333333333,
             "#9c179e"
            ],
            [
             0.4444444444444444,
             "#bd3786"
            ],
            [
             0.5555555555555556,
             "#d8576b"
            ],
            [
             0.6666666666666666,
             "#ed7953"
            ],
            [
             0.7777777777777778,
             "#fb9f3a"
            ],
            [
             0.8888888888888888,
             "#fdca26"
            ],
            [
             1,
             "#f0f921"
            ]
           ],
           "sequentialminus": [
            [
             0,
             "#0d0887"
            ],
            [
             0.1111111111111111,
             "#46039f"
            ],
            [
             0.2222222222222222,
             "#7201a8"
            ],
            [
             0.3333333333333333,
             "#9c179e"
            ],
            [
             0.4444444444444444,
             "#bd3786"
            ],
            [
             0.5555555555555556,
             "#d8576b"
            ],
            [
             0.6666666666666666,
             "#ed7953"
            ],
            [
             0.7777777777777778,
             "#fb9f3a"
            ],
            [
             0.8888888888888888,
             "#fdca26"
            ],
            [
             1,
             "#f0f921"
            ]
           ]
          },
          "colorway": [
           "#636efa",
           "#EF553B",
           "#00cc96",
           "#ab63fa",
           "#FFA15A",
           "#19d3f3",
           "#FF6692",
           "#B6E880",
           "#FF97FF",
           "#FECB52"
          ],
          "font": {
           "color": "#2a3f5f"
          },
          "geo": {
           "bgcolor": "white",
           "lakecolor": "white",
           "landcolor": "#E5ECF6",
           "showlakes": true,
           "showland": true,
           "subunitcolor": "white"
          },
          "hoverlabel": {
           "align": "left"
          },
          "hovermode": "closest",
          "mapbox": {
           "style": "light"
          },
          "paper_bgcolor": "white",
          "plot_bgcolor": "#E5ECF6",
          "polar": {
           "angularaxis": {
            "gridcolor": "white",
            "linecolor": "white",
            "ticks": ""
           },
           "bgcolor": "#E5ECF6",
           "radialaxis": {
            "gridcolor": "white",
            "linecolor": "white",
            "ticks": ""
           }
          },
          "scene": {
           "xaxis": {
            "backgroundcolor": "#E5ECF6",
            "gridcolor": "white",
            "gridwidth": 2,
            "linecolor": "white",
            "showbackground": true,
            "ticks": "",
            "zerolinecolor": "white"
           },
           "yaxis": {
            "backgroundcolor": "#E5ECF6",
            "gridcolor": "white",
            "gridwidth": 2,
            "linecolor": "white",
            "showbackground": true,
            "ticks": "",
            "zerolinecolor": "white"
           },
           "zaxis": {
            "backgroundcolor": "#E5ECF6",
            "gridcolor": "white",
            "gridwidth": 2,
            "linecolor": "white",
            "showbackground": true,
            "ticks": "",
            "zerolinecolor": "white"
           }
          },
          "shapedefaults": {
           "line": {
            "color": "#2a3f5f"
           }
          },
          "ternary": {
           "aaxis": {
            "gridcolor": "white",
            "linecolor": "white",
            "ticks": ""
           },
           "baxis": {
            "gridcolor": "white",
            "linecolor": "white",
            "ticks": ""
           },
           "bgcolor": "#E5ECF6",
           "caxis": {
            "gridcolor": "white",
            "linecolor": "white",
            "ticks": ""
           }
          },
          "title": {
           "x": 0.05
          },
          "xaxis": {
           "automargin": true,
           "gridcolor": "white",
           "linecolor": "white",
           "ticks": "",
           "title": {
            "standoff": 15
           },
           "zerolinecolor": "white",
           "zerolinewidth": 2
          },
          "yaxis": {
           "automargin": true,
           "gridcolor": "white",
           "linecolor": "white",
           "ticks": "",
           "title": {
            "standoff": 15
           },
           "zerolinecolor": "white",
           "zerolinewidth": 2
          }
         }
        },
        "xaxis": {
         "anchor": "y",
         "autorange": true,
         "domain": [
          0,
          1
         ],
         "range": [
          1,
          9
         ],
         "title": {
          "text": "# Trimmed residues"
         },
         "type": "linear"
        },
        "yaxis": {
         "anchor": "x",
         "autorange": true,
         "domain": [
          0,
          1
         ],
         "range": [
          0.6416405474817773,
          0.6990030082508549
         ],
         "title": {
          "text": "Score"
         },
         "type": "linear"
        }
       }
      },
      "image/png": "[encoded data removed]",
      "text/html": [
       "<div>                            <div id=\"d5222d09-7b75-44fc-a45a-308e603ab6d6\" class=\"plotly-graph-div\" style=\"height:525px; width:100%;\"></div>            <script type=\"text/javascript\">                require([\"plotly\"], function(Plotly) {                    window.PLOTLYENV=window.PLOTLYENV || {};                                    if (document.getElementById(\"d5222d09-7b75-44fc-a45a-308e603ab6d6\")) {                    Plotly.newPlot(                        \"d5222d09-7b75-44fc-a45a-308e603ab6d6\",                        [{\"hovertemplate\":\"Strategy=Spearman corr<br># Trimmed residues=%{x}<br>Score=%{y}<extra></extra>\",\"legendgroup\":\"Spearman corr\",\"line\":{\"color\":\"#636efa\",\"dash\":\"solid\"},\"marker\":{\"symbol\":\"circle\"},\"mode\":\"lines\",\"name\":\"Spearman corr\",\"orientation\":\"v\",\"showlegend\":true,\"x\":[1,2,3,4,5,6,7,8,9],\"xaxis\":\"x\",\"y\":[0.6908788114505338,0.6906975626275907,0.6926827555937489,0.6917241013913513,0.6929942568967166,0.6926582389497157,0.6938338685826414,0.6961348852124011,0.6953798968370393],\"yaxis\":\"y\",\"type\":\"scatter\"},{\"hovertemplate\":\"Strategy=Disordered regions accuracy<br># Trimmed residues=%{x}<br>Score=%{y}<extra></extra>\",\"legendgroup\":\"Disordered regions accuracy\",\"line\":{\"color\":\"#EF553B\",\"dash\":\"solid\"},\"marker\":{\"symbol\":\"circle\"},\"mode\":\"lines\",\"name\":\"Disordered regions accuracy\",\"orientation\":\"v\",\"showlegend\":true,\"x\":[1,2,3,4,5,6,7,8,9],\"xaxis\":\"x\",\"y\":[0.6583333333333333,0.6498599439775911,0.652542372881356,0.6504297994269341,0.6445086705202312,0.6530612244897959,0.6501457725947521,0.6510263929618768,0.6538461538461539],\"yaxis\":\"y\",\"type\":\"scatter\"}],                        {\"template\":{\"data\":{\"histogram2dcontour\":[{\"type\":\"histogram2dcontour\",\"colorbar\":{\"outlinewidth\":0,\"ticks\":\"\"},\"colorscale\":[[0.0,\"#0d0887\"],[0.1111111111111111,\"#46039f\"],[0.2222222222222222,\"#7201a8\"],[0.3333333333333333,\"#9c179e\"],[0.4444444444444444,\"#bd3786\"],[0.5555555555555556,\"#d8576b\"],[0.6666666666666666,\"#ed7953\"],[0.7777777777777778,\"#fb9f3a\"],[0.8888888888888888,\"#fdca26\"],[1.0,\"#f0f921\"]]}],\"choropleth\":[{\"type\":\"choropleth\",\"colorbar\":{\"outlinewidth\":0,\"ticks\":\"\"}}],\"histogram2d\":[{\"type\":\"histogram2d\",\"colorbar\":{\"outlinewidth\":0,\"ticks\":\"\"},\"colorscale\":[[0.0,\"#0d0887\"],[0.1111111111111111,\"#46039f\"],[0.2222222222222222,\"#7201a8\"],[0.3333333333333333,\"#9c179e\"],[0.4444444444444444,\"#bd3786\"],[0.5555555555555556,\"#d8576b\"],[0.6666666666666666,\"#ed7953\"],[0.7777777777777778,\"#fb9f3a\"],[0.8888888888888888,\"#fdca26\"],[1.0,\"#f0f921\"]]}],\"heatmap\":[{\"type\":\"heatmap\",\"colorbar\":{\"outlinewidth\":0,\"ticks\":\"\"},\"colorscale\":[[0.0,\"#0d0887\"],[0.1111111111111111,\"#46039f\"],[0.2222222222222222,\"#7201a8\"],[0.3333333333333333,\"#9c179e\"],[0.4444444444444444,\"#bd3786\"],[0.5555555555555556,\"#d8576b\"],[0.6666666666666666,\"#ed7953\"],[0.7777777777777778,\"#fb9f3a\"],[0.8888888888888888,\"#fdca26\"],[1.0,\"#f0f921\"]]}],\"heatmapgl\":[{\"type\":\"heatmapgl\",\"colorbar\":{\"outlinewidth\":0,\"ticks\":\"\"},\"colorscale\":[[0.0,\"#0d0887\"],[0.1111111111111111,\"#46039f\"],[0.2222222222222222,\"#7201a8\"],[0.3333333333333333,\"#9c179e\"],[0.4444444444444444,\"#bd3786\"],[0.5555555555555556,\"#d8576b\"],[0.6666666666666666,\"#ed7953\"],[0.7777777777777778,\"#fb9f3a\"],[0.8888888888888888,\"#fdca26\"],[1.0,\"#f0f921\"]]}],\"contourcarpet\":[{\"type\":\"contourcarpet\",\"colorbar\":{\"outlinewidth\":0,\"ticks\":\"\"}}],\"contour\":[{\"type\":\"contour\",\"colorbar\":{\"outlinewidth\":0,\"ticks\":\"\"},\"colorscale\":[[0.0,\"#0d0887\"],[0.1111111111111111,\"#46039f\"],[0.2222222222222222,\"#7201a8\"],[0.3333333333333333,\"#9c179e\"],[0.4444444444444444,\"#bd3786\"],[0.5555555555555556,\"#d8576b\"],[0.6666666666666666,\"#ed7953\"],[0.7777777777777778,\"#fb9f3a\"],[0.8888888888888888,\"#fdca26\"],[1.0,\"#f0f921\"]]}],\"surface\":[{\"type\":\"surface\",\"colorbar\":{\"outlinewidth\":0,\"ticks\":\"\"},\"colorscale\":[[0.0,\"#0d0887\"],[0.1111111111111111,\"#46039f\"],[0.2222222222222222,\"#7201a8\"],[0.3333333333333333,\"#9c179e\"],[0.4444444444444444,\"#bd3786\"],[0.5555555555555556,\"#d8576b\"],[0.6666666666666666,\"#ed7953\"],[0.7777777777777778,\"#fb9f3a\"],[0.8888888888888888,\"#fdca26\"],[1.0,\"#f0f921\"]]}],\"mesh3d\":[{\"type\":\"mesh3d\",\"colorbar\":{\"outlinewidth\":0,\"ticks\":\"\"}}],\"scatter\":[{\"fillpattern\":{\"fillmode\":\"overlay\",\"size\":10,\"solidity\":0.2},\"type\":\"scatter\"}],\"parcoords\":[{\"type\":\"parcoords\",\"line\":{\"colorbar\":{\"outlinewidth\":0,\"ticks\":\"\"}}}],\"scatterpolargl\":[{\"type\":\"scatterpolargl\",\"marker\":{\"colorbar\":{\"outlinewidth\":0,\"ticks\":\"\"}}}],\"bar\":[{\"error_x\":{\"color\":\"#2a3f5f\"},\"error_y\":{\"color\":\"#2a3f5f\"},\"marker\":{\"line\":{\"color\":\"#E5ECF6\",\"width\":0.5},\"pattern\":{\"fillmode\":\"overlay\",\"size\":10,\"solidity\":0.2}},\"type\":\"bar\"}],\"scattergeo\":[{\"type\":\"scattergeo\",\"marker\":{\"colorbar\":{\"outlinewidth\":0,\"ticks\":\"\"}}}],\"scatterpolar\":[{\"type\":\"scatterpolar\",\"marker\":{\"colorbar\":{\"outlinewidth\":0,\"ticks\":\"\"}}}],\"histogram\":[{\"marker\":{\"pattern\":{\"fillmode\":\"overlay\",\"size\":10,\"solidity\":0.2}},\"type\":\"histogram\"}],\"scattergl\":[{\"type\":\"scattergl\",\"marker\":{\"colorbar\":{\"outlinewidth\":0,\"ticks\":\"\"}}}],\"scatter3d\":[{\"type\":\"scatter3d\",\"line\":{\"colorbar\":{\"outlinewidth\":0,\"ticks\":\"\"}},\"marker\":{\"colorbar\":{\"outlinewidth\":0,\"ticks\":\"\"}}}],\"scattermapbox\":[{\"type\":\"scattermapbox\",\"marker\":{\"colorbar\":{\"outlinewidth\":0,\"ticks\":\"\"}}}],\"scatterternary\":[{\"type\":\"scatterternary\",\"marker\":{\"colorbar\":{\"outlinewidth\":0,\"ticks\":\"\"}}}],\"scattercarpet\":[{\"type\":\"scattercarpet\",\"marker\":{\"colorbar\":{\"outlinewidth\":0,\"ticks\":\"\"}}}],\"carpet\":[{\"aaxis\":{\"endlinecolor\":\"#2a3f5f\",\"gridcolor\":\"white\",\"linecolor\":\"white\",\"minorgridcolor\":\"white\",\"startlinecolor\":\"#2a3f5f\"},\"baxis\":{\"endlinecolor\":\"#2a3f5f\",\"gridcolor\":\"white\",\"linecolor\":\"white\",\"minorgridcolor\":\"white\",\"startlinecolor\":\"#2a3f5f\"},\"type\":\"carpet\"}],\"table\":[{\"cells\":{\"fill\":{\"color\":\"#EBF0F8\"},\"line\":{\"color\":\"white\"}},\"header\":{\"fill\":{\"color\":\"#C8D4E3\"},\"line\":{\"color\":\"white\"}},\"type\":\"table\"}],\"barpolar\":[{\"marker\":{\"line\":{\"color\":\"#E5ECF6\",\"width\":0.5},\"pattern\":{\"fillmode\":\"overlay\",\"size\":10,\"solidity\":0.2}},\"type\":\"barpolar\"}],\"pie\":[{\"automargin\":true,\"type\":\"pie\"}]},\"layout\":{\"autotypenumbers\":\"strict\",\"colorway\":[\"#636efa\",\"#EF553B\",\"#00cc96\",\"#ab63fa\",\"#FFA15A\",\"#19d3f3\",\"#FF6692\",\"#B6E880\",\"#FF97FF\",\"#FECB52\"],\"font\":{\"color\":\"#2a3f5f\"},\"hovermode\":\"closest\",\"hoverlabel\":{\"align\":\"left\"},\"paper_bgcolor\":\"white\",\"plot_bgcolor\":\"#E5ECF6\",\"polar\":{\"bgcolor\":\"#E5ECF6\",\"angularaxis\":{\"gridcolor\":\"white\",\"linecolor\":\"white\",\"ticks\":\"\"},\"radialaxis\":{\"gridcolor\":\"white\",\"linecolor\":\"white\",\"ticks\":\"\"}},\"ternary\":{\"bgcolor\":\"#E5ECF6\",\"aaxis\":{\"gridcolor\":\"white\",\"linecolor\":\"white\",\"ticks\":\"\"},\"baxis\":{\"gridcolor\":\"white\",\"linecolor\":\"white\",\"ticks\":\"\"},\"caxis\":{\"gridcolor\":\"white\",\"linecolor\":\"white\",\"ticks\":\"\"}},\"coloraxis\":{\"colorbar\":{\"outlinewidth\":0,\"ticks\":\"\"}},\"colorscale\":{\"sequential\":[[0.0,\"#0d0887\"],[0.1111111111111111,\"#46039f\"],[0.2222222222222222,\"#7201a8\"],[0.3333333333333333,\"#9c179e\"],[0.4444444444444444,\"#bd3786\"],[0.5555555555555556,\"#d8576b\"],[0.6666666666666666,\"#ed7953\"],[0.7777777777777778,\"#fb9f3a\"],[0.8888888888888888,\"#fdca26\"],[1.0,\"#f0f921\"]],\"sequentialminus\":[[0.0,\"#0d0887\"],[0.1111111111111111,\"#46039f\"],[0.2222222222222222,\"#7201a8\"],[0.3333333333333333,\"#9c179e\"],[0.4444444444444444,\"#bd3786\"],[0.5555555555555556,\"#d8576b\"],[0.6666666666666666,\"#ed7953\"],[0.7777777777777778,\"#fb9f3a\"],[0.8888888888888888,\"#fdca26\"],[1.0,\"#f0f921\"]],\"diverging\":[[0,\"#8e0152\"],[0.1,\"#c51b7d\"],[0.2,\"#de77ae\"],[0.3,\"#f1b6da\"],[0.4,\"#fde0ef\"],[0.5,\"#f7f7f7\"],[0.6,\"#e6f5d0\"],[0.7,\"#b8e186\"],[0.8,\"#7fbc41\"],[0.9,\"#4d9221\"],[1,\"#276419\"]]},\"xaxis\":{\"gridcolor\":\"white\",\"linecolor\":\"white\",\"ticks\":\"\",\"title\":{\"standoff\":15},\"zerolinecolor\":\"white\",\"automargin\":true,\"zerolinewidth\":2},\"yaxis\":{\"gridcolor\":\"white\",\"linecolor\":\"white\",\"ticks\":\"\",\"title\":{\"standoff\":15},\"zerolinecolor\":\"white\",\"automargin\":true,\"zerolinewidth\":2},\"scene\":{\"xaxis\":{\"backgroundcolor\":\"#E5ECF6\",\"gridcolor\":\"white\",\"linecolor\":\"white\",\"showbackground\":true,\"ticks\":\"\",\"zerolinecolor\":\"white\",\"gridwidth\":2},\"yaxis\":{\"backgroundcolor\":\"#E5ECF6\",\"gridcolor\":\"white\",\"linecolor\":\"white\",\"showbackground\":true,\"ticks\":\"\",\"zerolinecolor\":\"white\",\"gridwidth\":2},\"zaxis\":{\"backgroundcolor\":\"#E5ECF6\",\"gridcolor\":\"white\",\"linecolor\":\"white\",\"showbackground\":true,\"ticks\":\"\",\"zerolinecolor\":\"white\",\"gridwidth\":2}},\"shapedefaults\":{\"line\":{\"color\":\"#2a3f5f\"}},\"annotationdefaults\":{\"arrowcolor\":\"#2a3f5f\",\"arrowhead\":0,\"arrowwidth\":1},\"geo\":{\"bgcolor\":\"white\",\"landcolor\":\"#E5ECF6\",\"subunitcolor\":\"white\",\"showland\":true,\"showlakes\":true,\"lakecolor\":\"white\"},\"title\":{\"x\":0.05},\"mapbox\":{\"style\":\"light\"}}},\"xaxis\":{\"anchor\":\"y\",\"domain\":[0.0,1.0],\"title\":{\"text\":\"# Trimmed residues\"}},\"yaxis\":{\"anchor\":\"x\",\"domain\":[0.0,1.0],\"title\":{\"text\":\"Score\"}},\"legend\":{\"title\":{\"text\":\"Strategy\"},\"tracegroupgap\":0},\"margin\":{\"t\":60}},                        {\"responsive\": true}                    ).then(function(){\n",
       "                            \n",
       "var gd = document.getElementById('d5222d09-7b75-44fc-a45a-308e603ab6d6');\n",
       "var x = new MutationObserver(function (mutations, observer) {{\n",
       "        var display = window.getComputedStyle(gd).display;\n",
       "        if (!display || display === 'none') {{\n",
       "            console.log([gd, 'removed!']);\n",
       "            Plotly.purge(gd);\n",
       "            observer.disconnect();\n",
       "        }}\n",
       "}});\n",
       "\n",
       "// Listen for the removal of the full notebook cells\n",
       "var notebookContainer = gd.closest('#notebook-container');\n",
       "if (notebookContainer) {{\n",
       "    x.observe(notebookContainer, {childList: true});\n",
       "}}\n",
       "\n",
       "// Listen for the clearing of the current output cell\n",
       "var outputEl = gd.closest('.output');\n",
       "if (outputEl) {{\n",
       "    x.observe(outputEl, {childList: true});\n",
       "}}\n",
       "\n",
       "                        })                };                });            </script>        </div>"
      ]
     },
     "metadata": {},
     "output_type": "display_data"
    }
   ],
   "source": [
    "fig = px.line(df_trim_show, x='# Trimmed residues', y='Score', color='Strategy')\n",
    "fig.show()"
   ]
  },
  {
   "cell_type": "code",
   "execution_count": 72,
   "id": "bab3b28d-a7c8-42a0-8ed8-1df5d29c0bf0",
   "metadata": {},
   "outputs": [
    {
     "data": {
      "application/vnd.plotly.v1+json": {
       "config": {
        "plotlyServerURL": "https://plot.ly"
       },
       "data": [
        {
         "hovertemplate": "Strategy=Spearman corr<br># Mutated residues=%{x}<br>Score=%{y}<extra></extra>",
         "legendgroup": "Spearman corr",
         "line": {
          "color": "#636efa",
          "dash": "solid"
         },
         "marker": {
          "symbol": "circle"
         },
         "mode": "lines",
         "name": "Spearman corr",
         "orientation": "v",
         "showlegend": true,
         "type": "scatter",
         "x": [
          1,
          2,
          3,
          4,
          5,
          6,
          7,
          8,
          9
         ],
         "xaxis": "x",
         "y": [
          0.6826513362429262,
          0.6811542965297817,
          0.6862452116615037,
          0.6817357326225366,
          0.6832122568820769,
          0.6897559307155579,
          0.6755037112833752,
          0.673708501224676,
          0.6844011973740854
         ],
         "yaxis": "y"
        },
        {
         "hovertemplate": "Strategy=Disordered regions accuracy<br># Mutated residues=%{x}<br>Score=%{y}<extra></extra>",
         "legendgroup": "Disordered regions accuracy",
         "line": {
          "color": "#EF553B",
          "dash": "solid"
         },
         "marker": {
          "symbol": "circle"
         },
         "mode": "lines",
         "name": "Disordered regions accuracy",
         "orientation": "v",
         "showlegend": true,
         "type": "scatter",
         "x": [
          1,
          2,
          3,
          4,
          5,
          6,
          7,
          8,
          9
         ],
         "xaxis": "x",
         "y": [
          0.6555555555555556,
          0.6555555555555556,
          0.65,
          0.6555555555555556,
          0.6583333333333333,
          0.6638888888888889,
          0.6472222222222223,
          0.6444444444444445,
          0.65
         ],
         "yaxis": "y"
        }
       ],
       "layout": {
        "autosize": true,
        "legend": {
         "title": {
          "text": "Strategy"
         },
         "tracegroupgap": 0
        },
        "margin": {
         "t": 60
        },
        "template": {
         "data": {
          "bar": [
           {
            "error_x": {
             "color": "#2a3f5f"
            },
            "error_y": {
             "color": "#2a3f5f"
            },
            "marker": {
             "line": {
              "color": "#E5ECF6",
              "width": 0.5
             },
             "pattern": {
              "fillmode": "overlay",
              "size": 10,
              "solidity": 0.2
             }
            },
            "type": "bar"
           }
          ],
          "barpolar": [
           {
            "marker": {
             "line": {
              "color": "#E5ECF6",
              "width": 0.5
             },
             "pattern": {
              "fillmode": "overlay",
              "size": 10,
              "solidity": 0.2
             }
            },
            "type": "barpolar"
           }
          ],
          "carpet": [
           {
            "aaxis": {
             "endlinecolor": "#2a3f5f",
             "gridcolor": "white",
             "linecolor": "white",
             "minorgridcolor": "white",
             "startlinecolor": "#2a3f5f"
            },
            "baxis": {
             "endlinecolor": "#2a3f5f",
             "gridcolor": "white",
             "linecolor": "white",
             "minorgridcolor": "white",
             "startlinecolor": "#2a3f5f"
            },
            "type": "carpet"
           }
          ],
          "choropleth": [
           {
            "colorbar": {
             "outlinewidth": 0,
             "ticks": ""
            },
            "type": "choropleth"
           }
          ],
          "contour": [
           {
            "colorbar": {
             "outlinewidth": 0,
             "ticks": ""
            },
            "colorscale": [
             [
              0,
              "#0d0887"
             ],
             [
              0.1111111111111111,
              "#46039f"
             ],
             [
              0.2222222222222222,
              "#7201a8"
             ],
             [
              0.3333333333333333,
              "#9c179e"
             ],
             [
              0.4444444444444444,
              "#bd3786"
             ],
             [
              0.5555555555555556,
              "#d8576b"
             ],
             [
              0.6666666666666666,
              "#ed7953"
             ],
             [
              0.7777777777777778,
              "#fb9f3a"
             ],
             [
              0.8888888888888888,
              "#fdca26"
             ],
             [
              1,
              "#f0f921"
             ]
            ],
            "type": "contour"
           }
          ],
          "contourcarpet": [
           {
            "colorbar": {
             "outlinewidth": 0,
             "ticks": ""
            },
            "type": "contourcarpet"
           }
          ],
          "heatmap": [
           {
            "colorbar": {
             "outlinewidth": 0,
             "ticks": ""
            },
            "colorscale": [
             [
              0,
              "#0d0887"
             ],
             [
              0.1111111111111111,
              "#46039f"
             ],
             [
              0.2222222222222222,
              "#7201a8"
             ],
             [
              0.3333333333333333,
              "#9c179e"
             ],
             [
              0.4444444444444444,
              "#bd3786"
             ],
             [
              0.5555555555555556,
              "#d8576b"
             ],
             [
              0.6666666666666666,
              "#ed7953"
             ],
             [
              0.7777777777777778,
              "#fb9f3a"
             ],
             [
              0.8888888888888888,
              "#fdca26"
             ],
             [
              1,
              "#f0f921"
             ]
            ],
            "type": "heatmap"
           }
          ],
          "heatmapgl": [
           {
            "colorbar": {
             "outlinewidth": 0,
             "ticks": ""
            },
            "colorscale": [
             [
              0,
              "#0d0887"
             ],
             [
              0.1111111111111111,
              "#46039f"
             ],
             [
              0.2222222222222222,
              "#7201a8"
             ],
             [
              0.3333333333333333,
              "#9c179e"
             ],
             [
              0.4444444444444444,
              "#bd3786"
             ],
             [
              0.5555555555555556,
              "#d8576b"
             ],
             [
              0.6666666666666666,
              "#ed7953"
             ],
             [
              0.7777777777777778,
              "#fb9f3a"
             ],
             [
              0.8888888888888888,
              "#fdca26"
             ],
             [
              1,
              "#f0f921"
             ]
            ],
            "type": "heatmapgl"
           }
          ],
          "histogram": [
           {
            "marker": {
             "pattern": {
              "fillmode": "overlay",
              "size": 10,
              "solidity": 0.2
             }
            },
            "type": "histogram"
           }
          ],
          "histogram2d": [
           {
            "colorbar": {
             "outlinewidth": 0,
             "ticks": ""
            },
            "colorscale": [
             [
              0,
              "#0d0887"
             ],
             [
              0.1111111111111111,
              "#46039f"
             ],
             [
              0.2222222222222222,
              "#7201a8"
             ],
             [
              0.3333333333333333,
              "#9c179e"
             ],
             [
              0.4444444444444444,
              "#bd3786"
             ],
             [
              0.5555555555555556,
              "#d8576b"
             ],
             [
              0.6666666666666666,
              "#ed7953"
             ],
             [
              0.7777777777777778,
              "#fb9f3a"
             ],
             [
              0.8888888888888888,
              "#fdca26"
             ],
             [
              1,
              "#f0f921"
             ]
            ],
            "type": "histogram2d"
           }
          ],
          "histogram2dcontour": [
           {
            "colorbar": {
             "outlinewidth": 0,
             "ticks": ""
            },
            "colorscale": [
             [
              0,
              "#0d0887"
             ],
             [
              0.1111111111111111,
              "#46039f"
             ],
             [
              0.2222222222222222,
              "#7201a8"
             ],
             [
              0.3333333333333333,
              "#9c179e"
             ],
             [
              0.4444444444444444,
              "#bd3786"
             ],
             [
              0.5555555555555556,
              "#d8576b"
             ],
             [
              0.6666666666666666,
              "#ed7953"
             ],
             [
              0.7777777777777778,
              "#fb9f3a"
             ],
             [
              0.8888888888888888,
              "#fdca26"
             ],
             [
              1,
              "#f0f921"
             ]
            ],
            "type": "histogram2dcontour"
           }
          ],
          "mesh3d": [
           {
            "colorbar": {
             "outlinewidth": 0,
             "ticks": ""
            },
            "type": "mesh3d"
           }
          ],
          "parcoords": [
           {
            "line": {
             "colorbar": {
              "outlinewidth": 0,
              "ticks": ""
             }
            },
            "type": "parcoords"
           }
          ],
          "pie": [
           {
            "automargin": true,
            "type": "pie"
           }
          ],
          "scatter": [
           {
            "fillpattern": {
             "fillmode": "overlay",
             "size": 10,
             "solidity": 0.2
            },
            "type": "scatter"
           }
          ],
          "scatter3d": [
           {
            "line": {
             "colorbar": {
              "outlinewidth": 0,
              "ticks": ""
             }
            },
            "marker": {
             "colorbar": {
              "outlinewidth": 0,
              "ticks": ""
             }
            },
            "type": "scatter3d"
           }
          ],
          "scattercarpet": [
           {
            "marker": {
             "colorbar": {
              "outlinewidth": 0,
              "ticks": ""
             }
            },
            "type": "scattercarpet"
           }
          ],
          "scattergeo": [
           {
            "marker": {
             "colorbar": {
              "outlinewidth": 0,
              "ticks": ""
             }
            },
            "type": "scattergeo"
           }
          ],
          "scattergl": [
           {
            "marker": {
             "colorbar": {
              "outlinewidth": 0,
              "ticks": ""
             }
            },
            "type": "scattergl"
           }
          ],
          "scattermapbox": [
           {
            "marker": {
             "colorbar": {
              "outlinewidth": 0,
              "ticks": ""
             }
            },
            "type": "scattermapbox"
           }
          ],
          "scatterpolar": [
           {
            "marker": {
             "colorbar": {
              "outlinewidth": 0,
              "ticks": ""
             }
            },
            "type": "scatterpolar"
           }
          ],
          "scatterpolargl": [
           {
            "marker": {
             "colorbar": {
              "outlinewidth": 0,
              "ticks": ""
             }
            },
            "type": "scatterpolargl"
           }
          ],
          "scatterternary": [
           {
            "marker": {
             "colorbar": {
              "outlinewidth": 0,
              "ticks": ""
             }
            },
            "type": "scatterternary"
           }
          ],
          "surface": [
           {
            "colorbar": {
             "outlinewidth": 0,
             "ticks": ""
            },
            "colorscale": [
             [
              0,
              "#0d0887"
             ],
             [
              0.1111111111111111,
              "#46039f"
             ],
             [
              0.2222222222222222,
              "#7201a8"
             ],
             [
              0.3333333333333333,
              "#9c179e"
             ],
             [
              0.4444444444444444,
              "#bd3786"
             ],
             [
              0.5555555555555556,
              "#d8576b"
             ],
             [
              0.6666666666666666,
              "#ed7953"
             ],
             [
              0.7777777777777778,
              "#fb9f3a"
             ],
             [
              0.8888888888888888,
              "#fdca26"
             ],
             [
              1,
              "#f0f921"
             ]
            ],
            "type": "surface"
           }
          ],
          "table": [
           {
            "cells": {
             "fill": {
              "color": "#EBF0F8"
             },
             "line": {
              "color": "white"
             }
            },
            "header": {
             "fill": {
              "color": "#C8D4E3"
             },
             "line": {
              "color": "white"
             }
            },
            "type": "table"
           }
          ]
         },
         "layout": {
          "annotationdefaults": {
           "arrowcolor": "#2a3f5f",
           "arrowhead": 0,
           "arrowwidth": 1
          },
          "autotypenumbers": "strict",
          "coloraxis": {
           "colorbar": {
            "outlinewidth": 0,
            "ticks": ""
           }
          },
          "colorscale": {
           "diverging": [
            [
             0,
             "#8e0152"
            ],
            [
             0.1,
             "#c51b7d"
            ],
            [
             0.2,
             "#de77ae"
            ],
            [
             0.3,
             "#f1b6da"
            ],
            [
             0.4,
             "#fde0ef"
            ],
            [
             0.5,
             "#f7f7f7"
            ],
            [
             0.6,
             "#e6f5d0"
            ],
            [
             0.7,
             "#b8e186"
            ],
            [
             0.8,
             "#7fbc41"
            ],
            [
             0.9,
             "#4d9221"
            ],
            [
             1,
             "#276419"
            ]
           ],
           "sequential": [
            [
             0,
             "#0d0887"
            ],
            [
             0.1111111111111111,
             "#46039f"
            ],
            [
             0.2222222222222222,
             "#7201a8"
            ],
            [
             0.3333333333333333,
             "#9c179e"
            ],
            [
             0.4444444444444444,
             "#bd3786"
            ],
            [
             0.5555555555555556,
             "#d8576b"
            ],
            [
             0.6666666666666666,
             "#ed7953"
            ],
            [
             0.7777777777777778,
             "#fb9f3a"
            ],
            [
             0.8888888888888888,
             "#fdca26"
            ],
            [
             1,
             "#f0f921"
            ]
           ],
           "sequentialminus": [
            [
             0,
             "#0d0887"
            ],
            [
             0.1111111111111111,
             "#46039f"
            ],
            [
             0.2222222222222222,
             "#7201a8"
            ],
            [
             0.3333333333333333,
             "#9c179e"
            ],
            [
             0.4444444444444444,
             "#bd3786"
            ],
            [
             0.5555555555555556,
             "#d8576b"
            ],
            [
             0.6666666666666666,
             "#ed7953"
            ],
            [
             0.7777777777777778,
             "#fb9f3a"
            ],
            [
             0.8888888888888888,
             "#fdca26"
            ],
            [
             1,
             "#f0f921"
            ]
           ]
          },
          "colorway": [
           "#636efa",
           "#EF553B",
           "#00cc96",
           "#ab63fa",
           "#FFA15A",
           "#19d3f3",
           "#FF6692",
           "#B6E880",
           "#FF97FF",
           "#FECB52"
          ],
          "font": {
           "color": "#2a3f5f"
          },
          "geo": {
           "bgcolor": "white",
           "lakecolor": "white",
           "landcolor": "#E5ECF6",
           "showlakes": true,
           "showland": true,
           "subunitcolor": "white"
          },
          "hoverlabel": {
           "align": "left"
          },
          "hovermode": "closest",
          "mapbox": {
           "style": "light"
          },
          "paper_bgcolor": "white",
          "plot_bgcolor": "#E5ECF6",
          "polar": {
           "angularaxis": {
            "gridcolor": "white",
            "linecolor": "white",
            "ticks": ""
           },
           "bgcolor": "#E5ECF6",
           "radialaxis": {
            "gridcolor": "white",
            "linecolor": "white",
            "ticks": ""
           }
          },
          "scene": {
           "xaxis": {
            "backgroundcolor": "#E5ECF6",
            "gridcolor": "white",
            "gridwidth": 2,
            "linecolor": "white",
            "showbackground": true,
            "ticks": "",
            "zerolinecolor": "white"
           },
           "yaxis": {
            "backgroundcolor": "#E5ECF6",
            "gridcolor": "white",
            "gridwidth": 2,
            "linecolor": "white",
            "showbackground": true,
            "ticks": "",
            "zerolinecolor": "white"
           },
           "zaxis": {
            "backgroundcolor": "#E5ECF6",
            "gridcolor": "white",
            "gridwidth": 2,
            "linecolor": "white",
            "showbackground": true,
            "ticks": "",
            "zerolinecolor": "white"
           }
          },
          "shapedefaults": {
           "line": {
            "color": "#2a3f5f"
           }
          },
          "ternary": {
           "aaxis": {
            "gridcolor": "white",
            "linecolor": "white",
            "ticks": ""
           },
           "baxis": {
            "gridcolor": "white",
            "linecolor": "white",
            "ticks": ""
           },
           "bgcolor": "#E5ECF6",
           "caxis": {
            "gridcolor": "white",
            "linecolor": "white",
            "ticks": ""
           }
          },
          "title": {
           "x": 0.05
          },
          "xaxis": {
           "automargin": true,
           "gridcolor": "white",
           "linecolor": "white",
           "ticks": "",
           "title": {
            "standoff": 15
           },
           "zerolinecolor": "white",
           "zerolinewidth": 2
          },
          "yaxis": {
           "automargin": true,
           "gridcolor": "white",
           "linecolor": "white",
           "ticks": "",
           "title": {
            "standoff": 15
           },
           "zerolinecolor": "white",
           "zerolinewidth": 2
          }
         }
        },
        "xaxis": {
         "anchor": "y",
         "autorange": true,
         "domain": [
          0,
          1
         ],
         "range": [
          1,
          9
         ],
         "title": {
          "text": "# Mutated residues"
         },
         "type": "linear"
        },
        "yaxis": {
         "anchor": "x",
         "autorange": true,
         "domain": [
          0,
          1
         ],
         "range": [
          0.6419271396516049,
          0.6922732355083975
         ],
         "title": {
          "text": "Score"
         },
         "type": "linear"
        }
       }
      },
      "image/png": "[encoded data removed]",
      "text/html": [
       "<div>                            <div id=\"5a7749a1-5ebc-4081-b7af-1b87e10f4a70\" class=\"plotly-graph-div\" style=\"height:525px; width:100%;\"></div>            <script type=\"text/javascript\">                require([\"plotly\"], function(Plotly) {                    window.PLOTLYENV=window.PLOTLYENV || {};                                    if (document.getElementById(\"5a7749a1-5ebc-4081-b7af-1b87e10f4a70\")) {                    Plotly.newPlot(                        \"5a7749a1-5ebc-4081-b7af-1b87e10f4a70\",                        [{\"hovertemplate\":\"Strategy=Spearman corr<br># Mutated residues=%{x}<br>Score=%{y}<extra></extra>\",\"legendgroup\":\"Spearman corr\",\"line\":{\"color\":\"#636efa\",\"dash\":\"solid\"},\"marker\":{\"symbol\":\"circle\"},\"mode\":\"lines\",\"name\":\"Spearman corr\",\"orientation\":\"v\",\"showlegend\":true,\"x\":[1,2,3,4,5,6,7,8,9],\"xaxis\":\"x\",\"y\":[0.6826513362429262,0.6811542965297817,0.6862452116615037,0.6817357326225366,0.6832122568820769,0.6897559307155579,0.6755037112833752,0.673708501224676,0.6844011973740854],\"yaxis\":\"y\",\"type\":\"scatter\"},{\"hovertemplate\":\"Strategy=Disordered regions accuracy<br># Mutated residues=%{x}<br>Score=%{y}<extra></extra>\",\"legendgroup\":\"Disordered regions accuracy\",\"line\":{\"color\":\"#EF553B\",\"dash\":\"solid\"},\"marker\":{\"symbol\":\"circle\"},\"mode\":\"lines\",\"name\":\"Disordered regions accuracy\",\"orientation\":\"v\",\"showlegend\":true,\"x\":[1,2,3,4,5,6,7,8,9],\"xaxis\":\"x\",\"y\":[0.6555555555555556,0.6555555555555556,0.65,0.6555555555555556,0.6583333333333333,0.6638888888888889,0.6472222222222223,0.6444444444444445,0.65],\"yaxis\":\"y\",\"type\":\"scatter\"}],                        {\"template\":{\"data\":{\"histogram2dcontour\":[{\"type\":\"histogram2dcontour\",\"colorbar\":{\"outlinewidth\":0,\"ticks\":\"\"},\"colorscale\":[[0.0,\"#0d0887\"],[0.1111111111111111,\"#46039f\"],[0.2222222222222222,\"#7201a8\"],[0.3333333333333333,\"#9c179e\"],[0.4444444444444444,\"#bd3786\"],[0.5555555555555556,\"#d8576b\"],[0.6666666666666666,\"#ed7953\"],[0.7777777777777778,\"#fb9f3a\"],[0.8888888888888888,\"#fdca26\"],[1.0,\"#f0f921\"]]}],\"choropleth\":[{\"type\":\"choropleth\",\"colorbar\":{\"outlinewidth\":0,\"ticks\":\"\"}}],\"histogram2d\":[{\"type\":\"histogram2d\",\"colorbar\":{\"outlinewidth\":0,\"ticks\":\"\"},\"colorscale\":[[0.0,\"#0d0887\"],[0.1111111111111111,\"#46039f\"],[0.2222222222222222,\"#7201a8\"],[0.3333333333333333,\"#9c179e\"],[0.4444444444444444,\"#bd3786\"],[0.5555555555555556,\"#d8576b\"],[0.6666666666666666,\"#ed7953\"],[0.7777777777777778,\"#fb9f3a\"],[0.8888888888888888,\"#fdca26\"],[1.0,\"#f0f921\"]]}],\"heatmap\":[{\"type\":\"heatmap\",\"colorbar\":{\"outlinewidth\":0,\"ticks\":\"\"},\"colorscale\":[[0.0,\"#0d0887\"],[0.1111111111111111,\"#46039f\"],[0.2222222222222222,\"#7201a8\"],[0.3333333333333333,\"#9c179e\"],[0.4444444444444444,\"#bd3786\"],[0.5555555555555556,\"#d8576b\"],[0.6666666666666666,\"#ed7953\"],[0.7777777777777778,\"#fb9f3a\"],[0.8888888888888888,\"#fdca26\"],[1.0,\"#f0f921\"]]}],\"heatmapgl\":[{\"type\":\"heatmapgl\",\"colorbar\":{\"outlinewidth\":0,\"ticks\":\"\"},\"colorscale\":[[0.0,\"#0d0887\"],[0.1111111111111111,\"#46039f\"],[0.2222222222222222,\"#7201a8\"],[0.3333333333333333,\"#9c179e\"],[0.4444444444444444,\"#bd3786\"],[0.5555555555555556,\"#d8576b\"],[0.6666666666666666,\"#ed7953\"],[0.7777777777777778,\"#fb9f3a\"],[0.8888888888888888,\"#fdca26\"],[1.0,\"#f0f921\"]]}],\"contourcarpet\":[{\"type\":\"contourcarpet\",\"colorbar\":{\"outlinewidth\":0,\"ticks\":\"\"}}],\"contour\":[{\"type\":\"contour\",\"colorbar\":{\"outlinewidth\":0,\"ticks\":\"\"},\"colorscale\":[[0.0,\"#0d0887\"],[0.1111111111111111,\"#46039f\"],[0.2222222222222222,\"#7201a8\"],[0.3333333333333333,\"#9c179e\"],[0.4444444444444444,\"#bd3786\"],[0.5555555555555556,\"#d8576b\"],[0.6666666666666666,\"#ed7953\"],[0.7777777777777778,\"#fb9f3a\"],[0.8888888888888888,\"#fdca26\"],[1.0,\"#f0f921\"]]}],\"surface\":[{\"type\":\"surface\",\"colorbar\":{\"outlinewidth\":0,\"ticks\":\"\"},\"colorscale\":[[0.0,\"#0d0887\"],[0.1111111111111111,\"#46039f\"],[0.2222222222222222,\"#7201a8\"],[0.3333333333333333,\"#9c179e\"],[0.4444444444444444,\"#bd3786\"],[0.5555555555555556,\"#d8576b\"],[0.6666666666666666,\"#ed7953\"],[0.7777777777777778,\"#fb9f3a\"],[0.8888888888888888,\"#fdca26\"],[1.0,\"#f0f921\"]]}],\"mesh3d\":[{\"type\":\"mesh3d\",\"colorbar\":{\"outlinewidth\":0,\"ticks\":\"\"}}],\"scatter\":[{\"fillpattern\":{\"fillmode\":\"overlay\",\"size\":10,\"solidity\":0.2},\"type\":\"scatter\"}],\"parcoords\":[{\"type\":\"parcoords\",\"line\":{\"colorbar\":{\"outlinewidth\":0,\"ticks\":\"\"}}}],\"scatterpolargl\":[{\"type\":\"scatterpolargl\",\"marker\":{\"colorbar\":{\"outlinewidth\":0,\"ticks\":\"\"}}}],\"bar\":[{\"error_x\":{\"color\":\"#2a3f5f\"},\"error_y\":{\"color\":\"#2a3f5f\"},\"marker\":{\"line\":{\"color\":\"#E5ECF6\",\"width\":0.5},\"pattern\":{\"fillmode\":\"overlay\",\"size\":10,\"solidity\":0.2}},\"type\":\"bar\"}],\"scattergeo\":[{\"type\":\"scattergeo\",\"marker\":{\"colorbar\":{\"outlinewidth\":0,\"ticks\":\"\"}}}],\"scatterpolar\":[{\"type\":\"scatterpolar\",\"marker\":{\"colorbar\":{\"outlinewidth\":0,\"ticks\":\"\"}}}],\"histogram\":[{\"marker\":{\"pattern\":{\"fillmode\":\"overlay\",\"size\":10,\"solidity\":0.2}},\"type\":\"histogram\"}],\"scattergl\":[{\"type\":\"scattergl\",\"marker\":{\"colorbar\":{\"outlinewidth\":0,\"ticks\":\"\"}}}],\"scatter3d\":[{\"type\":\"scatter3d\",\"line\":{\"colorbar\":{\"outlinewidth\":0,\"ticks\":\"\"}},\"marker\":{\"colorbar\":{\"outlinewidth\":0,\"ticks\":\"\"}}}],\"scattermapbox\":[{\"type\":\"scattermapbox\",\"marker\":{\"colorbar\":{\"outlinewidth\":0,\"ticks\":\"\"}}}],\"scatterternary\":[{\"type\":\"scatterternary\",\"marker\":{\"colorbar\":{\"outlinewidth\":0,\"ticks\":\"\"}}}],\"scattercarpet\":[{\"type\":\"scattercarpet\",\"marker\":{\"colorbar\":{\"outlinewidth\":0,\"ticks\":\"\"}}}],\"carpet\":[{\"aaxis\":{\"endlinecolor\":\"#2a3f5f\",\"gridcolor\":\"white\",\"linecolor\":\"white\",\"minorgridcolor\":\"white\",\"startlinecolor\":\"#2a3f5f\"},\"baxis\":{\"endlinecolor\":\"#2a3f5f\",\"gridcolor\":\"white\",\"linecolor\":\"white\",\"minorgridcolor\":\"white\",\"startlinecolor\":\"#2a3f5f\"},\"type\":\"carpet\"}],\"table\":[{\"cells\":{\"fill\":{\"color\":\"#EBF0F8\"},\"line\":{\"color\":\"white\"}},\"header\":{\"fill\":{\"color\":\"#C8D4E3\"},\"line\":{\"color\":\"white\"}},\"type\":\"table\"}],\"barpolar\":[{\"marker\":{\"line\":{\"color\":\"#E5ECF6\",\"width\":0.5},\"pattern\":{\"fillmode\":\"overlay\",\"size\":10,\"solidity\":0.2}},\"type\":\"barpolar\"}],\"pie\":[{\"automargin\":true,\"type\":\"pie\"}]},\"layout\":{\"autotypenumbers\":\"strict\",\"colorway\":[\"#636efa\",\"#EF553B\",\"#00cc96\",\"#ab63fa\",\"#FFA15A\",\"#19d3f3\",\"#FF6692\",\"#B6E880\",\"#FF97FF\",\"#FECB52\"],\"font\":{\"color\":\"#2a3f5f\"},\"hovermode\":\"closest\",\"hoverlabel\":{\"align\":\"left\"},\"paper_bgcolor\":\"white\",\"plot_bgcolor\":\"#E5ECF6\",\"polar\":{\"bgcolor\":\"#E5ECF6\",\"angularaxis\":{\"gridcolor\":\"white\",\"linecolor\":\"white\",\"ticks\":\"\"},\"radialaxis\":{\"gridcolor\":\"white\",\"linecolor\":\"white\",\"ticks\":\"\"}},\"ternary\":{\"bgcolor\":\"#E5ECF6\",\"aaxis\":{\"gridcolor\":\"white\",\"linecolor\":\"white\",\"ticks\":\"\"},\"baxis\":{\"gridcolor\":\"white\",\"linecolor\":\"white\",\"ticks\":\"\"},\"caxis\":{\"gridcolor\":\"white\",\"linecolor\":\"white\",\"ticks\":\"\"}},\"coloraxis\":{\"colorbar\":{\"outlinewidth\":0,\"ticks\":\"\"}},\"colorscale\":{\"sequential\":[[0.0,\"#0d0887\"],[0.1111111111111111,\"#46039f\"],[0.2222222222222222,\"#7201a8\"],[0.3333333333333333,\"#9c179e\"],[0.4444444444444444,\"#bd3786\"],[0.5555555555555556,\"#d8576b\"],[0.6666666666666666,\"#ed7953\"],[0.7777777777777778,\"#fb9f3a\"],[0.8888888888888888,\"#fdca26\"],[1.0,\"#f0f921\"]],\"sequentialminus\":[[0.0,\"#0d0887\"],[0.1111111111111111,\"#46039f\"],[0.2222222222222222,\"#7201a8\"],[0.3333333333333333,\"#9c179e\"],[0.4444444444444444,\"#bd3786\"],[0.5555555555555556,\"#d8576b\"],[0.6666666666666666,\"#ed7953\"],[0.7777777777777778,\"#fb9f3a\"],[0.8888888888888888,\"#fdca26\"],[1.0,\"#f0f921\"]],\"diverging\":[[0,\"#8e0152\"],[0.1,\"#c51b7d\"],[0.2,\"#de77ae\"],[0.3,\"#f1b6da\"],[0.4,\"#fde0ef\"],[0.5,\"#f7f7f7\"],[0.6,\"#e6f5d0\"],[0.7,\"#b8e186\"],[0.8,\"#7fbc41\"],[0.9,\"#4d9221\"],[1,\"#276419\"]]},\"xaxis\":{\"gridcolor\":\"white\",\"linecolor\":\"white\",\"ticks\":\"\",\"title\":{\"standoff\":15},\"zerolinecolor\":\"white\",\"automargin\":true,\"zerolinewidth\":2},\"yaxis\":{\"gridcolor\":\"white\",\"linecolor\":\"white\",\"ticks\":\"\",\"title\":{\"standoff\":15},\"zerolinecolor\":\"white\",\"automargin\":true,\"zerolinewidth\":2},\"scene\":{\"xaxis\":{\"backgroundcolor\":\"#E5ECF6\",\"gridcolor\":\"white\",\"linecolor\":\"white\",\"showbackground\":true,\"ticks\":\"\",\"zerolinecolor\":\"white\",\"gridwidth\":2},\"yaxis\":{\"backgroundcolor\":\"#E5ECF6\",\"gridcolor\":\"white\",\"linecolor\":\"white\",\"showbackground\":true,\"ticks\":\"\",\"zerolinecolor\":\"white\",\"gridwidth\":2},\"zaxis\":{\"backgroundcolor\":\"#E5ECF6\",\"gridcolor\":\"white\",\"linecolor\":\"white\",\"showbackground\":true,\"ticks\":\"\",\"zerolinecolor\":\"white\",\"gridwidth\":2}},\"shapedefaults\":{\"line\":{\"color\":\"#2a3f5f\"}},\"annotationdefaults\":{\"arrowcolor\":\"#2a3f5f\",\"arrowhead\":0,\"arrowwidth\":1},\"geo\":{\"bgcolor\":\"white\",\"landcolor\":\"#E5ECF6\",\"subunitcolor\":\"white\",\"showland\":true,\"showlakes\":true,\"lakecolor\":\"white\"},\"title\":{\"x\":0.05},\"mapbox\":{\"style\":\"light\"}}},\"xaxis\":{\"anchor\":\"y\",\"domain\":[0.0,1.0],\"title\":{\"text\":\"# Mutated residues\"}},\"yaxis\":{\"anchor\":\"x\",\"domain\":[0.0,1.0],\"title\":{\"text\":\"Score\"}},\"legend\":{\"title\":{\"text\":\"Strategy\"},\"tracegroupgap\":0},\"margin\":{\"t\":60}},                        {\"responsive\": true}                    ).then(function(){\n",
       "                            \n",
       "var gd = document.getElementById('5a7749a1-5ebc-4081-b7af-1b87e10f4a70');\n",
       "var x = new MutationObserver(function (mutations, observer) {{\n",
       "        var display = window.getComputedStyle(gd).display;\n",
       "        if (!display || display === 'none') {{\n",
       "            console.log([gd, 'removed!']);\n",
       "            Plotly.purge(gd);\n",
       "            observer.disconnect();\n",
       "        }}\n",
       "}});\n",
       "\n",
       "// Listen for the removal of the full notebook cells\n",
       "var notebookContainer = gd.closest('#notebook-container');\n",
       "if (notebookContainer) {{\n",
       "    x.observe(notebookContainer, {childList: true});\n",
       "}}\n",
       "\n",
       "// Listen for the clearing of the current output cell\n",
       "var outputEl = gd.closest('.output');\n",
       "if (outputEl) {{\n",
       "    x.observe(outputEl, {childList: true});\n",
       "}}\n",
       "\n",
       "                        })                };                });            </script>        </div>"
      ]
     },
     "metadata": {},
     "output_type": "display_data"
    }
   ],
   "source": [
    "fig = px.line(df_rand_show, x='# Mutated residues', y='Score', color='Strategy')\n",
    "fig.show()"
   ]
  },
  {
   "cell_type": "code",
   "execution_count": null,
   "id": "5ef9a28f-8809-4825-80c5-2ef27048dfc2",
   "metadata": {},
   "outputs": [],
   "source": []
  }
 ],
 "metadata": {
  "kernelspec": {
   "display_name": "Python 3 (ipykernel)",
   "language": "python",
   "name": "python3"
  },
  "language_info": {
   "codemirror_mode": {
    "name": "ipython",
    "version": 3
   },
   "file_extension": ".py",
   "mimetype": "text/x-python",
   "name": "python",
   "nbconvert_exporter": "python",
   "pygments_lexer": "ipython3",
   "version": "3.8.10"
  }
 },
 "nbformat": 4,
 "nbformat_minor": 5
}
