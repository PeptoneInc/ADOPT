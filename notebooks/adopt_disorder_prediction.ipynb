{
 "cells": [
  {
   "cell_type": "code",
   "execution_count": null,
   "id": "33a018a9",
   "metadata": {},
   "outputs": [],
   "source": [
    "from adopt import utils, constants, MultiHead, ZScorePred\n",
    "from spacy import displacy"
   ]
  },
  {
   "cell_type": "markdown",
   "id": "784a704e",
   "metadata": {},
   "source": [
    "# Parameters"
   ]
  },
  {
   "cell_type": "code",
   "execution_count": null,
   "id": "7188f715",
   "metadata": {},
   "outputs": [],
   "source": [
    "FASTA_FILE = '<fasta_file_path>'\n",
    "BRMID = '<protein_sequence_brmid>'\n",
    "STRATEGY = '<training_strategy>'\n",
    "MODEL_TYPE = '<model_type>'"
   ]
  },
  {
   "cell_type": "markdown",
   "id": "3f3a2e50",
   "metadata": {},
   "source": [
    "# Load data "
   ]
  },
  {
   "cell_type": "markdown",
   "id": "6e8d3a02",
   "metadata": {},
   "source": [
    "Load the **FASTA_FILE** containing the protein sequences we are interested in."
   ]
  },
  {
   "cell_type": "code",
   "execution_count": null,
   "id": "f6e600d7",
   "metadata": {},
   "outputs": [],
   "source": [
    "df_fasta = utils.fasta_to_df(FASTA_FILE).set_index('brmid')\n",
    "df_fasta.head()"
   ]
  },
  {
   "cell_type": "markdown",
   "id": "a1cb24ed",
   "metadata": {},
   "source": [
    "# Extract residue level representations"
   ]
  },
  {
   "cell_type": "markdown",
   "id": "b7bc90da",
   "metadata": {},
   "source": [
    "Extract attention weights of the **BRMID** in the **FASTA_FILE** specified above."
   ]
  },
  {
   "cell_type": "code",
   "execution_count": null,
   "id": "6bfcf344",
   "metadata": {},
   "outputs": [],
   "source": [
    "sequence = df_fasta.loc[BRMID].sequence\n",
    "multi_head = MultiHead(MODEL_TYPE, sequence, BRMID)\n",
    "representation, tokens = multi_head.get_representation()"
   ]
  },
  {
   "cell_type": "markdown",
   "id": "168c4f14",
   "metadata": {},
   "source": [
    "# Predict the Z score"
   ]
  },
  {
   "cell_type": "markdown",
   "id": "e18caa9b",
   "metadata": {},
   "source": [
    "Predict the **Z score** related to each residue in the sequence specified above"
   ]
  },
  {
   "cell_type": "code",
   "execution_count": null,
   "id": "0b3656ae",
   "metadata": {},
   "outputs": [],
   "source": [
    "z_score_pred = ZScorePred(STRATEGY, MODEL_TYPE)\n",
    "predicted_z_scores = z_score_pred.get_z_score(representation)"
   ]
  },
  {
   "cell_type": "markdown",
   "id": "908aa4b9",
   "metadata": {},
   "source": [
    "# Viz"
   ]
  },
  {
   "cell_type": "markdown",
   "id": "bd6874f2",
   "metadata": {},
   "source": [
    "Each residue in the sequence defined above is tagged as:\n",
    "* **Fully disordered** &rarr; FDIS\n",
    "* **Partially disordered** &rarr; PDIS\n",
    "* **Structured** &rarr; STRUCT\n",
    "* **Flexible loops** &rarr; FLEX"
   ]
  },
  {
   "cell_type": "code",
   "execution_count": null,
   "id": "945a21d6",
   "metadata": {},
   "outputs": [],
   "source": [
    "residues_state = utils.get_residue_class(predicted_z_scores)\n",
    "ex = [{\"text\": sequence,\n",
    "       \"ents\": residues_state,\n",
    "       \"title\": None}]\n",
    "\n",
    "options = {\"ents\": constants.res_colors.keys(), \"colors\": constants.res_colors}\n",
    "\n",
    "html = displacy.render(ex, style=\"ent\", manual=True, options=options, jupyter=True)"
   ]
  },
  {
   "cell_type": "code",
   "execution_count": null,
   "id": "c4ee57bc",
   "metadata": {},
   "outputs": [],
   "source": []
  }
 ],
 "metadata": {
  "kernelspec": {
   "display_name": "Python 3",
   "language": "python",
   "name": "python3"
  },
  "language_info": {
   "codemirror_mode": {
    "name": "ipython",
    "version": 3
   },
   "file_extension": ".py",
   "mimetype": "text/x-python",
   "name": "python",
   "nbconvert_exporter": "python",
   "pygments_lexer": "ipython3",
   "version": "3.8.10"
  }
 },
 "nbformat": 4,
 "nbformat_minor": 5
}
