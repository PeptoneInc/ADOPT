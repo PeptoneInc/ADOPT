{
 "cells": [
  {
   "cell_type": "code",
   "execution_count": 1,
   "id": "e5f15e74-83b0-4e63-ad75-e0cfb2aa8ecd",
   "metadata": {},
   "outputs": [
    {
     "name": "stderr",
     "output_type": "stream",
     "text": [
      "/home/ubuntu/python3-venv/lib/python3.8/site-packages/tqdm-4.64.0-py3.8.egg/tqdm/auto.py:22: TqdmWarning: IProgress not found. Please update jupyter and ipywidgets. See https://ipywidgets.readthedocs.io/en/stable/user_install.html\n",
      "  from .autonotebook import tqdm as notebook_tqdm\n"
     ]
    }
   ],
   "source": [
    "import pandas as pd\n",
    "import numpy as np\n",
    "from sklearn.metrics import mean_absolute_error, accuracy_score\n",
    "from scipy import stats\n",
    "from Bio import SeqIO\n",
    "from adopt.utils import fasta_to_df, df_to_fasta\n",
    "import random"
   ]
  },
  {
   "cell_type": "markdown",
   "id": "2531569e-889d-4d4e-a2f4-3ea34552970b",
   "metadata": {},
   "source": [
    "# Functions"
   ]
  },
  {
   "cell_type": "code",
   "execution_count": 2,
   "id": "f2ecd074-a55e-4be3-aaf3-003c85cfd675",
   "metadata": {},
   "outputs": [],
   "source": [
    "def no_go_ixs(zscores):\n",
    "    no_go_ixs = [i for i, x in enumerate(zscores) if x == 999.0]\n",
    "    return no_go_ixs\n",
    "\n",
    "def take_go_pos(scores, no_go_pos):\n",
    "    go_pos = [scores[i] for i in range(len(scores)) if i not in no_go_pos]\n",
    "    return go_pos\n",
    "\n",
    "def put_nans(x):\n",
    "    new_scores = [i if i != 999.0 else np.nan for i in x]\n",
    "    return new_scores\n",
    "\n",
    "def to_bin(x):\n",
    "    bin_scores = []\n",
    "    for score in x:\n",
    "        if score < 8:\n",
    "            new_score = 1\n",
    "        elif score >=8:\n",
    "            new_score = 0\n",
    "        else:\n",
    "            new_score = score\n",
    "        bin_scores.append(new_score)\n",
    "    return bin_scores\n",
    "\n",
    "def get_dis_regions(z_score_bin, dis_reg_len):\n",
    "    zones = {\"ones\": [], \"zeros\": [], 'ones_region': []}\n",
    "    reg = 0\n",
    "    for n, i in enumerate(z_score_bin):\n",
    "        pos_reg_diff = n-dis_reg_len+1\n",
    "        pos_reg_sum = n+dis_reg_len\n",
    "        #if n>0:\n",
    "        if pos_reg_diff>=0:\n",
    "            #if z_score_bin[n]+z_score_bin[n-1])==2:\n",
    "            if (sum(z_score_bin[pos_reg_diff:n+1]))==dis_reg_len:\n",
    "                zones['ones'].append(n)\n",
    "                zones['ones_region'].append(reg)        \n",
    "            else:\n",
    "                zones['zeros'].append(n)\n",
    "                reg+=1\n",
    "        else:\n",
    "            #if (z_score_bin[n]+z_score_bin[n+1])==2:\n",
    "            if (sum(z_score_bin[n:pos_reg_sum]))==dis_reg_len:\n",
    "                zones['ones'].append(n)\n",
    "                zones['ones_region'].append(reg)   \n",
    "            else:\n",
    "                zones['zeros'].append(n)\n",
    "    return zones\n",
    "\n",
    "def get_disorder_reg_index(bin_true_score, dis_reg_len):\n",
    "    dis_regions = get_dis_regions(bin_true_score, dis_reg_len)['ones_region']\n",
    "    dis_regions_ixs = get_dis_regions(bin_true_score, dis_reg_len)['ones']\n",
    "\n",
    "    regions = list(set(dis_regions))\n",
    "    dis_reg_ix_list = []\n",
    "\n",
    "    for n, reg in enumerate(regions):\n",
    "        region_ix = [i for i, j in enumerate(dis_regions) if j == reg]\n",
    "        dis_reg_ix = [dis_regions_ixs[n] for n in region_ix]\n",
    "        dis_reg_ix_list.append(dis_reg_ix)\n",
    "    return dis_reg_ix_list\n",
    "\n",
    "def compute_accuracy_per_region(true_score, pred_score, bin_true_score, bin_pred_score, dis_ixs):\n",
    "    #accuracy_prot = []\n",
    "    #corr_prot = []\n",
    "    true_z_score_dis_l = []\n",
    "    pred_z_score_dis_l = []\n",
    "    dis_reg_true_clss = []\n",
    "    dis_reg_pred_clss = []\n",
    "    for reg_ixs in dis_ixs:\n",
    "        true_z_score_class_dis_reg = [bin_true_score[i] for i in reg_ixs]\n",
    "        pred_z_score_class_dis_reg = [bin_pred_score[i] for i in reg_ixs]\n",
    "        true_z_score_dis_reg = [true_score[i] for i in reg_ixs]\n",
    "        pred_z_score_dis_reg = [pred_score[i] for i in reg_ixs]\n",
    "        #acc = accuracy_score(true_z_score_class_dis_reg, pred_z_score_class_dis_reg)\n",
    "        #prs = stats.pearsonr(true_z_score_dis_reg, pred_z_score_dis_reg)\n",
    "        #accuracy_prot.append(acc)\n",
    "        #corr_prot.append(prs)\n",
    "        dis_reg_true_clss.extend(true_z_score_class_dis_reg)\n",
    "        dis_reg_pred_clss.extend(pred_z_score_class_dis_reg)\n",
    "        true_z_score_dis_l.extend(true_z_score_dis_reg)\n",
    "        pred_z_score_dis_l.extend(pred_z_score_dis_reg)\n",
    "    return true_z_score_dis_l, pred_z_score_dis_l, dis_reg_true_clss, dis_reg_pred_clss\n",
    "\n",
    "def extract_disordered_regions_bin(bin_true_score, bin_pred_score, dis_ixs, perc_dis):\n",
    "    dis_reg_true_clss = []\n",
    "    dis_reg_pred_clss = []\n",
    "    for reg_ixs in dis_ixs:\n",
    "        true_z_score_class_dis_reg = [bin_true_score[i] for i in reg_ixs]\n",
    "        pred_z_score_class_dis_reg = [bin_pred_score[i] for i in reg_ixs]\n",
    "        n_true_dis_res = sum(true_z_score_class_dis_reg)\n",
    "        n_pred_dis_res = sum(pred_z_score_class_dis_reg)\n",
    "        fraction_of_true_disorder = (np.rint(len(true_z_score_class_dis_reg)*perc_dis)).astype(int)\n",
    "        fraction_of_pred_disorder = (np.rint(len(pred_z_score_class_dis_reg)*perc_dis)).astype(int)\n",
    "        \n",
    "        if n_true_dis_res >= fraction_of_true_disorder:\n",
    "            dis_reg_true_clss.append(1)\n",
    "        else: \n",
    "            dis_reg_true_clss.append(0)\n",
    "            \n",
    "        if n_pred_dis_res >= fraction_of_pred_disorder:\n",
    "            dis_reg_pred_clss.append(1)\n",
    "        else: \n",
    "            dis_reg_pred_clss.append(0)\n",
    "        \n",
    "    return dis_reg_true_clss, dis_reg_pred_clss\n",
    "\n",
    "def extract_disordered_regions(bin_true_score, bin_pred_score, dis_ixs):\n",
    "    dis_reg_true_frac = []\n",
    "    dis_reg_pred_frac = []\n",
    "    for reg_ixs in dis_ixs:\n",
    "        true_z_score_class_dis_reg = [bin_true_score[i] for i in reg_ixs]\n",
    "        pred_z_score_class_dis_reg = [bin_pred_score[i] for i in reg_ixs]\n",
    "        n_true_dis_res = sum(true_z_score_class_dis_reg)\n",
    "        n_pred_dis_res = sum(pred_z_score_class_dis_reg)\n",
    "        fraction_of_true_disorder = float(n_true_dis_res/len(true_z_score_class_dis_reg))\n",
    "        fraction_of_pred_disorder = float(n_pred_dis_res/len(pred_z_score_class_dis_reg))\n",
    "        #print(fraction_of_pred_disorder)\n",
    "        \n",
    "        dis_reg_true_frac.append(fraction_of_true_disorder)\n",
    "        dis_reg_pred_frac.append(fraction_of_pred_disorder)       \n",
    "        \n",
    "    return dis_reg_true_frac, dis_reg_pred_frac\n",
    "\n",
    "def trim_seq(x, trim_fac):\n",
    "    if isinstance(x, list):\n",
    "        x_trim = x[:-trim_fac]\n",
    "    else:\n",
    "        x_trim = list(x)\n",
    "        x_trim = x_trim[:-trim_fac]\n",
    "        x_trim = ''.join(x_trim)\n",
    "    return x_trim\n",
    "\n",
    "def mutate(x, vocab):\n",
    "    # choose random index to change\n",
    "    index = random.randint(0, len(x) - 1)\n",
    "    # make sure you are not using the previous char by removing it from \n",
    "    # the mutations to choose from\n",
    "    mutations = [c for c in vocab if c != x[index]]\n",
    "    # swap out the char at index with a random mutation\n",
    "    return x[:index] + random.choice(mutations) + x[index+1:]\n",
    "\n",
    "def get_rand_seq(x, n_mut, vocab):\n",
    "    for i in range(n_mut):\n",
    "        x = mutate(x, vocab)\n",
    "    return x"
   ]
  },
  {
   "cell_type": "code",
   "execution_count": 7,
   "id": "d9112efa-2b3d-4f8c-8091-595f444682b7",
   "metadata": {},
   "outputs": [],
   "source": [
    "def write_trimmed_seqs(fasta_dir, orig_fasta_file, out_fasta_prefix, trim_fac):\n",
    "    df_117_orig = fasta_to_df(f'{fasta_dir}/{orig_fasta_file}')\n",
    "    df_117_trim = df_117_orig.copy()\n",
    "    df_117_trim['sequence'] = df_117_trim.sequence.apply(trim_seq, trim_fac=trim_fac)\n",
    "    df_to_fasta(df_117_trim, f\"{fasta_dir}/{out_fasta_prefix}_{trim_fac}.fasta\")\n",
    "    \n",
    "def write_rand_seqs(fasta_dir, orig_fasta_file, out_fasta_prefix, n_mut, aa):\n",
    "    df_117_orig = fasta_to_df(f'{fasta_dir}/{orig_fasta_file}')\n",
    "    df_117_rand = df_117_orig.copy()\n",
    "    df_117_rand['sequence'] = df_117_rand.sequence.apply(get_rand_seq, n_mut=n_mut, vocab=aa)\n",
    "    df_to_fasta(df_117_rand, f\"{fasta_dir}/{out_fasta_prefix}_{n_mut}.fasta\")"
   ]
  },
  {
   "cell_type": "code",
   "execution_count": 8,
   "id": "2526786f-85b1-4040-8260-a5b6694569d5",
   "metadata": {},
   "outputs": [],
   "source": [
    "def import_data(gt_path, pred_prefix, mode, trim_fac, n_mut):\n",
    "    chezod_117_true_path = gt_path\n",
    "    if mode=='test':\n",
    "        chezod_117_pred_path = f'{pred_prefix}.json'\n",
    "        df_117_pred = pd.read_json(chezod_117_pred_path, orient='records')\n",
    "        df_117_true = pd.read_json(chezod_117_true_path, orient='records')\n",
    "    elif mode=='trim':\n",
    "        chezod_117_pred_path = f'{pred_prefix}_trim_{trim_fac}.json'\n",
    "        df_117_pred = pd.read_json(chezod_117_pred_path, orient='records')\n",
    "        df_117_true = pd.read_json(chezod_117_true_path, orient='records')\n",
    "        df_117_true['sequence'] = df_117_true.sequence.apply(trim_seq, trim_fac=trim_fac)\n",
    "        df_117_true['zscore'] = df_117_true.zscore.apply(trim_seq, trim_fac=trim_fac)\n",
    "    elif mode=='rand':\n",
    "        chezod_117_pred_path = f'{pred_prefix}_rand_{n_mut}.json'\n",
    "        df_117_pred = pd.read_json(chezod_117_pred_path, orient='records')\n",
    "        df_117_true = pd.read_json(chezod_117_true_path, orient='records')\n",
    "        df_117_true['sequence'] = df_117_pred.sequence\n",
    "    else:\n",
    "        print(\"Wrong mode\")\n",
    "        \n",
    "    return df_117_true, df_117_pred"
   ]
  },
  {
   "cell_type": "markdown",
   "id": "42f1fd2f-451a-43cf-8ebe-21be27af1d24",
   "metadata": {},
   "source": [
    "# Parameters"
   ]
  },
  {
   "cell_type": "code",
   "execution_count": 9,
   "id": "aaa9053a-8428-4d12-8260-d65b8f24cabc",
   "metadata": {},
   "outputs": [],
   "source": [
    "dis_reg_len = 3\n",
    "trim_fac = 10\n",
    "n_mut = 9\n",
    "perc_dis = 0.7\n",
    "aa = 'ARNDCQEGHILKMFPSTWYV'\n",
    "\n",
    "fasta_dir = \"../datasets\"\n",
    "orig_fasta_file = \"chezod_117_all.fasta\"\n",
    "max_trim_fac = 10\n",
    "max_n_mut = 10"
   ]
  },
  {
   "cell_type": "markdown",
   "id": "ffa02dd8-6fa3-4501-b5d4-ffdec9b31add",
   "metadata": {},
   "source": [
    "# Trim sequences"
   ]
  },
  {
   "cell_type": "code",
   "execution_count": 10,
   "id": "748f3bc7-9967-4462-b3b4-8679375facfd",
   "metadata": {},
   "outputs": [],
   "source": [
    "for i in range(max_trim_fac):\n",
    "    write_trimmed_seqs(fasta_dir, orig_fasta_file, \"chezod_117_all_trim\", i)"
   ]
  },
  {
   "cell_type": "markdown",
   "id": "265f30a0-6206-4ff3-ae13-05919070335d",
   "metadata": {},
   "source": [
    "# Randomize sequences"
   ]
  },
  {
   "cell_type": "code",
   "execution_count": 12,
   "id": "c8c1b09f-dbbd-4b6c-b1e6-0d5e56d67b31",
   "metadata": {},
   "outputs": [],
   "source": [
    "for i in range(max_n_mut):\n",
    "    write_rand_seqs(fasta_dir, orig_fasta_file, \"chezod_117_all_rand\", i, aa)"
   ]
  },
  {
   "cell_type": "markdown",
   "id": "82e2a8ac-9cee-44ec-8e25-0db2e419d273",
   "metadata": {},
   "source": [
    "# Import data"
   ]
  },
  {
   "cell_type": "code",
   "execution_count": null,
   "id": "2294ea58-ac74-479a-8949-4e2e52a8fdba",
   "metadata": {},
   "outputs": [],
   "source": [
    "df_117_true, df_117_pred = import_data('../datasets/117_dataset_raw.json', \n",
    "                                        'chezod_117_all', \n",
    "                                        'test', \n",
    "                                        trim_fac, \n",
    "                                        n_mut)"
   ]
  },
  {
   "cell_type": "markdown",
   "id": "29022566-6308-4a55-9a1b-0e113599218d",
   "metadata": {},
   "source": [
    "# Preprocessing"
   ]
  },
  {
   "cell_type": "code",
   "execution_count": 117,
   "id": "d960eb2b-acd8-4b8c-bac7-4b5ba35ba145",
   "metadata": {},
   "outputs": [],
   "source": [
    "df_117 = pd.concat([df_117_true, df_117_pred[[\"z_scores\"]]], axis=1)\n",
    "df_117.rename(columns={\"zscore\": \"zscore_true\", \"z_scores\": \"zscore_pred\"}, inplace=True)"
   ]
  },
  {
   "cell_type": "code",
   "execution_count": 119,
   "id": "4d491aaa-aa06-40bc-bbc4-5a3aabb51221",
   "metadata": {},
   "outputs": [],
   "source": [
    "df_117[\"no_go_ixs\"] = df_117.zscore_true.apply(no_go_ixs)\n",
    "df_117[\"zscore_true_nan\"] = df_117.zscore_true.apply(put_nans)\n",
    "df_117[\"go_zscore_true\"] = df_117.apply(lambda x: take_go_pos(x['zscore_true'], x['no_go_ixs']), axis=1)\n",
    "df_117[\"go_zscore_pred\"] = df_117.apply(lambda x: take_go_pos(x['zscore_pred'], x['no_go_ixs']), axis=1)\n",
    "df_117[\"zscore_true_bin\"] = df_117.zscore_true_nan.apply(to_bin)\n",
    "df_117[\"zscore_pred_bin\"] = df_117.zscore_pred.apply(to_bin)"
   ]
  },
  {
   "cell_type": "code",
   "execution_count": 120,
   "id": "d1c474ae-fb5c-4ea7-833b-256db54243a4",
   "metadata": {},
   "outputs": [],
   "source": [
    "zscores_true = np.concatenate(df_117.zscore_true_nan.values)\n",
    "zscores_pred = np.concatenate(df_117.zscore_pred.values)"
   ]
  },
  {
   "cell_type": "code",
   "execution_count": 121,
   "id": "f280447a-2756-48f1-a297-edbf8b2c72b9",
   "metadata": {},
   "outputs": [],
   "source": [
    "go_zscores_true = np.concatenate(df_117.go_zscore_true.values)\n",
    "go_zscores_pred = np.concatenate(df_117.go_zscore_pred.values)"
   ]
  },
  {
   "cell_type": "markdown",
   "id": "fe54fc0f-fa4c-40a6-ba16-45802625b7fe",
   "metadata": {},
   "source": [
    "# Statistical analysis"
   ]
  },
  {
   "cell_type": "code",
   "execution_count": 122,
   "id": "1b6b355c-9bf3-491b-9a56-f1361b923078",
   "metadata": {},
   "outputs": [
    {
     "data": {
      "text/plain": [
       "3.3942266032934425"
      ]
     },
     "execution_count": 122,
     "metadata": {},
     "output_type": "execute_result"
    }
   ],
   "source": [
    "mean_absolute_error(go_zscores_true, go_zscores_pred)"
   ]
  },
  {
   "cell_type": "code",
   "execution_count": 123,
   "id": "28ce6cf2-7a4b-4e0f-9f2f-e9f20618b750",
   "metadata": {},
   "outputs": [
    {
     "data": {
      "text/plain": [
       "SpearmanrResult(correlation=0.6817357326225366, pvalue=0.0)"
      ]
     },
     "execution_count": 123,
     "metadata": {},
     "output_type": "execute_result"
    }
   ],
   "source": [
    "stats.spearmanr(zscores_true, zscores_pred, nan_policy='omit')"
   ]
  },
  {
   "cell_type": "code",
   "execution_count": 124,
   "id": "04e6dc6f-1196-4fe4-8593-0272035f9d96",
   "metadata": {},
   "outputs": [
    {
     "data": {
      "text/plain": [
       "(0.7151340204905843, 0.0)"
      ]
     },
     "execution_count": 124,
     "metadata": {},
     "output_type": "execute_result"
    }
   ],
   "source": [
    "stats.pearsonr(go_zscores_true, go_zscores_pred)"
   ]
  },
  {
   "cell_type": "code",
   "execution_count": 125,
   "id": "ed979857-3c22-424e-990f-42afd70d9b5b",
   "metadata": {},
   "outputs": [],
   "source": [
    "bin_true_scores = df_117.zscore_true_bin.values\n",
    "bin_pred_scores = df_117.zscore_pred_bin.values\n",
    "\n",
    "true_scores = df_117.zscore_true.values\n",
    "pred_scores = df_117.zscore_pred.values"
   ]
  },
  {
   "cell_type": "markdown",
   "id": "2c52b774-7978-4dd4-b834-379ad484928b",
   "metadata": {},
   "source": [
    "# Z score corr in disordered regions"
   ]
  },
  {
   "cell_type": "code",
   "execution_count": 126,
   "id": "22ebc5c4-3cef-46c1-8a19-9869a027b3c0",
   "metadata": {},
   "outputs": [],
   "source": [
    "dis_reg_true_zscore = []\n",
    "dis_reg_pred_zscore = []\n",
    "dis_reg_true_class = []\n",
    "dis_reg_pred_class = []\n",
    "\n",
    "\n",
    "for i in range(len(true_scores)):\n",
    "    bin_true_score = bin_true_scores[i] \n",
    "    bin_pred_score = bin_pred_scores[i] \n",
    "    true_score = true_scores[i] \n",
    "    pred_score = pred_scores[i] \n",
    "    dis_ixs = get_disorder_reg_index(bin_true_score, dis_reg_len=dis_reg_len)\n",
    "    true_z_score_dis_reg, pred_z_score_dis_reg, dis_reg_true_clss, dis_reg_pred_clss = compute_accuracy_per_region(true_score,\n",
    "                                                                                                                   pred_score, \n",
    "                                                                                                                   bin_true_score, \n",
    "                                                                                                                   bin_pred_score, \n",
    "                                                                                                                   dis_ixs)\n",
    "    dis_reg_true_zscore.extend(true_z_score_dis_reg)\n",
    "    dis_reg_pred_zscore.extend(pred_z_score_dis_reg)\n",
    "    dis_reg_true_class.extend(dis_reg_true_clss)\n",
    "    dis_reg_pred_class.extend(dis_reg_pred_clss)"
   ]
  },
  {
   "cell_type": "code",
   "execution_count": 127,
   "id": "733050e3-ef52-430c-b2e9-585594c93a36",
   "metadata": {},
   "outputs": [
    {
     "data": {
      "text/plain": [
       "SpearmanrResult(correlation=0.29801228916857764, pvalue=2.7520931323800866e-168)"
      ]
     },
     "execution_count": 127,
     "metadata": {},
     "output_type": "execute_result"
    }
   ],
   "source": [
    "stats.spearmanr(dis_reg_true_zscore, dis_reg_pred_zscore)"
   ]
  },
  {
   "cell_type": "code",
   "execution_count": 128,
   "id": "f6f544fe-b01a-451d-b47a-bff41e9be8c1",
   "metadata": {},
   "outputs": [
    {
     "data": {
      "text/plain": [
       "(0.3216994014129946, 2.5908855591832515e-197)"
      ]
     },
     "execution_count": 128,
     "metadata": {},
     "output_type": "execute_result"
    }
   ],
   "source": [
    "stats.pearsonr(dis_reg_true_zscore, dis_reg_pred_zscore)"
   ]
  },
  {
   "cell_type": "markdown",
   "id": "4f7798db-725e-466b-b4ec-2822af1c6cbe",
   "metadata": {},
   "source": [
    "# Accuracy in disordered regions"
   ]
  },
  {
   "cell_type": "markdown",
   "id": "a47f095f-f769-441a-ba47-915031265481",
   "metadata": {},
   "source": [
    "### Per residue"
   ]
  },
  {
   "cell_type": "code",
   "execution_count": 129,
   "id": "8325f744-193e-4895-a995-d168c216e86f",
   "metadata": {},
   "outputs": [
    {
     "data": {
      "text/plain": [
       "0.8269488021403381"
      ]
     },
     "execution_count": 129,
     "metadata": {},
     "output_type": "execute_result"
    }
   ],
   "source": [
    "accuracy_score(dis_reg_true_class, dis_reg_pred_class)"
   ]
  },
  {
   "cell_type": "markdown",
   "id": "9317e1c4-e85c-4e7a-b513-215e1ae7dc00",
   "metadata": {},
   "source": [
    "### Per region"
   ]
  },
  {
   "cell_type": "code",
   "execution_count": 130,
   "id": "0ce03e09-c3e1-4c72-8807-5250f1a99c9f",
   "metadata": {},
   "outputs": [],
   "source": [
    "dis_reg_true = []\n",
    "dis_reg_pred = []\n",
    "dis_reg_true_prob = []\n",
    "dis_reg_pred_prob = []\n",
    "\n",
    "\n",
    "for i in range(len(true_scores)):\n",
    "    bin_true_score = bin_true_scores[i] \n",
    "    bin_pred_score = bin_pred_scores[i] \n",
    "    dis_ixs = get_disorder_reg_index(bin_true_score, dis_reg_len=dis_reg_len)\n",
    "    dis_reg_true_clss, dis_reg_pred_clss = extract_disordered_regions_bin(bin_true_score, \n",
    "                                                                          bin_pred_score, \n",
    "                                                                          dis_ixs,\n",
    "                                                                          perc_dis=perc_dis)\n",
    "    dis_reg_true_frac, dis_reg_pred_frac = extract_disordered_regions(bin_true_score, \n",
    "                                                                      bin_pred_score, \n",
    "                                                                      dis_ixs)\n",
    "    \n",
    "    dis_reg_true.extend(dis_reg_true_clss)\n",
    "    dis_reg_pred.extend(dis_reg_pred_clss)\n",
    "    dis_reg_true_prob.extend(dis_reg_true_frac)\n",
    "    dis_reg_pred_prob.extend(dis_reg_pred_frac)"
   ]
  },
  {
   "cell_type": "code",
   "execution_count": 131,
   "id": "cfe48c68-5c6e-401d-b23d-2d463debdac7",
   "metadata": {},
   "outputs": [
    {
     "data": {
      "text/plain": [
       "0.6555555555555556"
      ]
     },
     "execution_count": 131,
     "metadata": {},
     "output_type": "execute_result"
    }
   ],
   "source": [
    "accuracy_score(dis_reg_true, dis_reg_pred)"
   ]
  },
  {
   "cell_type": "code",
   "execution_count": null,
   "id": "91c8a68b-68c8-4dd2-9b81-d11689655192",
   "metadata": {},
   "outputs": [],
   "source": []
  }
 ],
 "metadata": {
  "kernelspec": {
   "display_name": "Python 3 (ipykernel)",
   "language": "python",
   "name": "python3"
  },
  "language_info": {
   "codemirror_mode": {
    "name": "ipython",
    "version": 3
   },
   "file_extension": ".py",
   "mimetype": "text/x-python",
   "name": "python",
   "nbconvert_exporter": "python",
   "pygments_lexer": "ipython3",
   "version": "3.8.10"
  }
 },
 "nbformat": 4,
 "nbformat_minor": 5
}
